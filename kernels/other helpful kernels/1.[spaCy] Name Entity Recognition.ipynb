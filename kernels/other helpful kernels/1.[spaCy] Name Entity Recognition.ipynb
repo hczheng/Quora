{
 "cells": [
  {
   "cell_type": "markdown",
   "metadata": {
    "_cell_guid": "5fa319f1-3e73-acb2-dc00-a86f99b8cdad"
   },
   "source": [
    "▼ See the result at bottom directly if you're in a hurry ▼\n",
    "\n",
    "\n",
    "\n",
    "## Idea and motivation\n",
    "\n",
    "For case like: 'Is Taiwan a good place to live ?'\n",
    "If we apply 'Taiwan' to word2vec directly, there are 3 cases might happen:\n",
    "\n",
    "1. It works! \n",
    "\n",
    "        Taiwan is a very common word, so the word2vec method really captured its meaning in its vector space!\n",
    "        \n",
    "2. Somehow it works, but not very well.\n",
    "        \n",
    "        Taiwan is not a very common word, so word2vec model cannot capture its meaning very well.\n",
    "        \n",
    "3. It fails.\n",
    "    \n",
    "        Either the word is too rare or contains typo in it.\n",
    "        \n",
    "And spaCy comes to me. It has an useful attribute \"ent\\_type\\_\" for each token, it tries to estimate the word's entity type in its pre-defined <a href=\"https://spacy.io/docs/api/annotation#named-entities\">categories</a> based on the sentence's context. \n",
    "\n",
    "For example:\n",
    "\n",
    "\n",
    "    testcase = 'Is Taiwan a good place to live ?'\n",
    "    doc = nlp(testcase) # apply spacy on the sentense\n",
    "    taiwan = doc[1] # word 'Taiwan' is at index 1\n",
    "    print(taiwan.ent_type_)\n",
    "\n",
    "    # yield \"GPE\" which means \"Countries, cities, states.\"\n",
    "\n",
    "\n",
    "Then we can replace the original sentence.\n",
    "\n",
    "\n",
    "    From: 'Is Taiwan a good place to live ?'\n",
    "    To  : 'Is country a good place to live ?'\n",
    "\n",
    "\n",
    "The word \"country\"'s meaning is very likely captured better than the word 'Taiwan'. Although it losses some information, but the dataset becomes less noisy. It is kind of trade off, and I believe that adding a model trained on such dataset can increase ensembling result.\n",
    "\n",
    "## Requirements\n",
    "\n",
    "1. install spaCy and its corpus ( I use its en_core_web_md corpus )\n",
    "\n",
    "So, you can't run it directly here :("
   ]
  },
  {
   "cell_type": "code",
   "execution_count": 1,
   "metadata": {
    "_cell_guid": "20ace079-f4cb-a0b4-6ff7-b8be2cc0b193",
    "collapsed": true
   },
   "outputs": [],
   "source": [
    "import numpy as np\n",
    "import pandas as pd"
   ]
  },
  {
   "cell_type": "code",
   "execution_count": 2,
   "metadata": {
    "_cell_guid": "4a7bb578-1dbe-749c-62d8-6c6ec1eccf7b",
    "collapsed": false
   },
   "outputs": [
    {
     "ename": "ImportError",
     "evalue": "No module named 'spacy'",
     "output_type": "error",
     "traceback": [
      "\u001b[0;31m---------------------------------------------------------------------------\u001b[0m",
      "\u001b[0;31mImportError\u001b[0m                               Traceback (most recent call last)",
      "\u001b[0;32m<ipython-input-2-d6cfa15be1fa>\u001b[0m in \u001b[0;36m<module>\u001b[0;34m()\u001b[0m\n\u001b[0;32m----> 1\u001b[0;31m \u001b[1;32mimport\u001b[0m \u001b[0mspacy\u001b[0m\u001b[1;33m\u001b[0m\u001b[0m\n\u001b[0m\u001b[1;32m      2\u001b[0m \u001b[0mnlp\u001b[0m \u001b[1;33m=\u001b[0m \u001b[0mspacy\u001b[0m\u001b[1;33m.\u001b[0m\u001b[0mload\u001b[0m\u001b[1;33m(\u001b[0m\u001b[1;34m'en_core_web_md'\u001b[0m\u001b[1;33m)\u001b[0m\u001b[1;33m\u001b[0m\u001b[0m\n",
      "\u001b[0;31mImportError\u001b[0m: No module named 'spacy'"
     ]
    }
   ],
   "source": [
    "import spacy\n",
    "nlp = spacy.load('en_core_web_md')"
   ]
  },
  {
   "cell_type": "code",
   "execution_count": 3,
   "metadata": {
    "_cell_guid": "8a7a8292-8748-8e64-dfbb-a47c62249014",
    "collapsed": false
   },
   "outputs": [
    {
     "name": "stdout",
     "output_type": "stream",
     "text": [
      "Sanity test:\n"
     ]
    },
    {
     "ename": "NameError",
     "evalue": "name 'nlp' is not defined",
     "output_type": "error",
     "traceback": [
      "\u001b[0;31m---------------------------------------------------------------------------\u001b[0m",
      "\u001b[0;31mNameError\u001b[0m                                 Traceback (most recent call last)",
      "\u001b[0;32m<ipython-input-3-e95263d361e6>\u001b[0m in \u001b[0;36m<module>\u001b[0;34m()\u001b[0m\n\u001b[1;32m      1\u001b[0m \u001b[0mprint\u001b[0m\u001b[0;34m(\u001b[0m\u001b[0;34m'Sanity test:'\u001b[0m\u001b[0;34m)\u001b[0m\u001b[0;34m\u001b[0m\u001b[0m\n\u001b[0;32m----> 2\u001b[0;31m \u001b[0mdoc\u001b[0m \u001b[0;34m=\u001b[0m \u001b[0mnlp\u001b[0m\u001b[0;34m(\u001b[0m\u001b[0;34mu'I am a good programmer!'\u001b[0m\u001b[0;34m)\u001b[0m\u001b[0;34m\u001b[0m\u001b[0m\n\u001b[0m\u001b[1;32m      3\u001b[0m \u001b[0mprint\u001b[0m\u001b[0;34m(\u001b[0m\u001b[0;34m[\u001b[0m\u001b[0mt\u001b[0m \u001b[0;32mfor\u001b[0m \u001b[0mt\u001b[0m \u001b[0;32min\u001b[0m \u001b[0mdoc\u001b[0m\u001b[0;34m]\u001b[0m\u001b[0;34m)\u001b[0m\u001b[0;34m\u001b[0m\u001b[0m\n",
      "\u001b[0;31mNameError\u001b[0m: name 'nlp' is not defined"
     ]
    }
   ],
   "source": [
    "print('Sanity test:')\n",
    "doc = nlp(u'I am a good programmer!')\n",
    "print([t for t in doc])"
   ]
  },
  {
   "cell_type": "code",
   "execution_count": 4,
   "metadata": {
    "_cell_guid": "b6ed4365-dbc9-a16d-1f72-1096e4f88036",
    "collapsed": true
   },
   "outputs": [],
   "source": []
  },
  {
   "cell_type": "markdown",
   "metadata": {
    "_cell_guid": "1feace48-7430-4325-ad7e-73229f40da6a"
   },
   "source": [
    "## Load dataset"
   ]
  },
  {
   "cell_type": "code",
   "execution_count": 4,
   "metadata": {
    "_cell_guid": "def5c0a1-0c48-dbac-cbb0-9e6348e570e1",
    "collapsed": true
   },
   "outputs": [],
   "source": [
    "train_set = pd.read_csv('../input/train.csv')"
   ]
  },
  {
   "cell_type": "code",
   "execution_count": 5,
   "metadata": {
    "_cell_guid": "2b7faaf3-b9d3-18ea-c971-3a5de7abc2bc",
    "collapsed": true
   },
   "outputs": [],
   "source": [
    "qid_dict = {}\n",
    "\n",
    "for i,series in train_set.iterrows():\n",
    "    if series['qid1'] not in qid_dict:\n",
    "        qid_dict[series['qid1']] = series['question1']\n",
    "    if series['qid2'] not in qid_dict:\n",
    "        qid_dict[series['qid2']] = series['question2']"
   ]
  },
  {
   "cell_type": "code",
   "execution_count": 6,
   "metadata": {
    "_cell_guid": "682ec6bc-10a1-ea89-9f51-18b6625d6ab2",
    "collapsed": true
   },
   "outputs": [],
   "source": []
  },
  {
   "cell_type": "markdown",
   "metadata": {
    "_cell_guid": "784e825a-4ff3-c7bd-f822-b8a74ec2cbbb"
   },
   "source": [
    "## Define some special tokens that we'll use"
   ]
  },
  {
   "cell_type": "code",
   "execution_count": 6,
   "metadata": {
    "_cell_guid": "9722aff2-b195-70e8-f2f1-2b5325d9da21",
    "collapsed": true
   },
   "outputs": [],
   "source": [
    "SPECIAL_TOKENS = {\n",
    "    'quoted': 'quoted_item',\n",
    "    'non-ascii': 'non_ascii_word',\n",
    "    'undefined': 'something'\n",
    "}"
   ]
  },
  {
   "cell_type": "code",
   "execution_count": 7,
   "metadata": {
    "_cell_guid": "e4436e57-6063-70c0-fe56-5659d805b1bc",
    "collapsed": true
   },
   "outputs": [],
   "source": []
  },
  {
   "cell_type": "markdown",
   "metadata": {
    "_cell_guid": "17dbf658-3f78-90b9-8334-08a4ddc322ad"
   },
   "source": [
    "## Flags\n",
    "\n",
    "some hyper paramters can be tuned to generate different result"
   ]
  },
  {
   "cell_type": "code",
   "execution_count": 7,
   "metadata": {
    "_cell_guid": "bb30373e-baff-5dbe-fafd-347246eab7a4",
    "collapsed": true
   },
   "outputs": [],
   "source": [
    "is_substitute_proper_noun = True # [not implemented] a little complicated than it seems\n",
    "is_remove_stopwords = False # not yet tested"
   ]
  },
  {
   "cell_type": "code",
   "execution_count": 8,
   "metadata": {
    "_cell_guid": "d01f4cdf-1f83-655a-fb7d-311db8d8b910",
    "collapsed": true
   },
   "outputs": [],
   "source": [
    "if is_remove_stopwords:\n",
    "    from nltk.corpus import stopwords\n",
    "    stopwords = set(stopwords.words('english'))"
   ]
  },
  {
   "cell_type": "code",
   "execution_count": 9,
   "metadata": {
    "_cell_guid": "aee3847e-67c1-acd7-cf9a-9815fb2d8bd4",
    "collapsed": true
   },
   "outputs": [],
   "source": []
  },
  {
   "cell_type": "markdown",
   "metadata": {
    "_cell_guid": "439c9c86-9c3b-7095-479e-351d3f08dda4"
   },
   "source": [
    "## Clean up question text\n",
    "\n",
    "Some part of the rules came from here:\n",
    "\n",
    "https://www.kaggle.com/currie32/the-importance-of-cleaning-text\n",
    "\n",
    "And you can also try another more general approach:\n",
    "\n",
    "https://www.kaggle.com/cpmpml/spell-checker-using-word2vec"
   ]
  },
  {
   "cell_type": "code",
   "execution_count": 9,
   "metadata": {
    "_cell_guid": "ae481e2c-93b1-f365-93ad-dffd6b4a7111",
    "collapsed": true
   },
   "outputs": [],
   "source": [
    "import re\n",
    "\n",
    "def clean_string(text):\n",
    "    \n",
    "    def pad_str(s):\n",
    "        return ' '+s+' '\n",
    "    \n",
    "    # Empty question\n",
    "    \n",
    "    if type(text) != str or text=='':\n",
    "        return ''\n",
    "    \n",
    "    # preventing first and last word being ignored by regex\n",
    "    # and convert first word in question to lower case\n",
    "    \n",
    "    text = ' ' + text[0].lower() + text[1:] + ' '\n",
    "    \n",
    "    # replace all first char after either [.!?)\"'] with lowercase\n",
    "    # don't mind if we lowered a proper noun, it won't be a big problem\n",
    "    \n",
    "    def lower_first_char(pattern):\n",
    "        matched_string = pattern.group(0)\n",
    "        return matched_string[:-1] + matched_string[-1].lower()\n",
    "    \n",
    "    text = re.sub(\"(?<=[\\.\\?\\)\\!\\'\\\"])[\\s]*.\",lower_first_char , text)\n",
    "    \n",
    "    # Replace weird chars in text\n",
    "    \n",
    "    text = re.sub(\"’\", \"'\", text) # special single quote\n",
    "    text = re.sub(\"`\", \"'\", text) # special single quote\n",
    "    text = re.sub(\"“\", '\"', text) # special double quote\n",
    "    text = re.sub(\"？\", \"?\", text) \n",
    "    text = re.sub(\"…\", \" \", text) \n",
    "    text = re.sub(\"é\", \"e\", text) \n",
    "    \n",
    "    # Clean shorthands\n",
    "    \n",
    "    text = re.sub(\"\\'s\", \" \", text) # we have cases like \"Sam is\" or \"Sam's\" (i.e. his) these two cases aren't separable, I choose to compromise are kill \"'s\" directly\n",
    "    text = re.sub(\" whats \", \" what is \", text, flags=re.IGNORECASE)\n",
    "    text = re.sub(\"\\'ve\", \" have \", text)\n",
    "    text = re.sub(\"can't\", \"can not\", text)\n",
    "    text = re.sub(\"n't\", \" not \", text)\n",
    "    text = re.sub(\"i'm\", \"i am\", text, flags=re.IGNORECASE)\n",
    "    text = re.sub(\"\\'re\", \" are \", text)\n",
    "    text = re.sub(\"\\'d\", \" would \", text)\n",
    "    text = re.sub(\"\\'ll\", \" will \", text)\n",
    "    text = re.sub(\"e\\.g\\.\", \" eg \", text, flags=re.IGNORECASE)\n",
    "    text = re.sub(\"b\\.g\\.\", \" bg \", text, flags=re.IGNORECASE)\n",
    "    text = re.sub(r\"(\\W|^)([0-9]+)[kK](\\W|$)\", r\"\\1\\g<2>000\\3\", text) # better regex provided by @armamut\n",
    "    text = re.sub(\"e-mail\", \" email \", text, flags=re.IGNORECASE)\n",
    "    text = re.sub(\"(the[\\s]+|The[\\s]+)?U\\.S\\.A\\.\", \" America \", text, flags=re.IGNORECASE)\n",
    "    text = re.sub(\"(the[\\s]+|The[\\s]+)?United State(s)?\", \" America \", text, flags=re.IGNORECASE)\n",
    "    text = re.sub(\"\\(s\\)\", \" \", text, flags=re.IGNORECASE)\n",
    "    text = re.sub(\"[c-fC-F]\\:\\/\", \" disk \", text)\n",
    "    \n",
    "    # replace the float numbers with a random number, it will be parsed as number afterward, and also been replaced with word \"number\"\n",
    "    \n",
    "    text = re.sub('[0-9]+\\.[0-9]+', \" 87 \", text)\n",
    "    \n",
    "    # remove comma between numbers, i.e. 15,000 -> 15000\n",
    "    \n",
    "    text = re.sub('(?<=[0-9])\\,(?=[0-9])', \"\", text)\n",
    "    \n",
    "#     # all numbers should separate from words, this is too aggressive\n",
    "    \n",
    "#     def pad_number(pattern):\n",
    "#         matched_string = pattern.group(0)\n",
    "#         return pad_str(matched_string)\n",
    "#     text = re.sub('[0-9]+', pad_number, text)\n",
    "    \n",
    "    # add padding to punctuations and special chars, we still need them later\n",
    "    \n",
    "    text = re.sub('\\$', \" dollar \", text)\n",
    "    text = re.sub('\\%', \" percent \", text)\n",
    "    text = re.sub('\\&', \" and \", text)\n",
    "    \n",
    "    def pad_pattern(pattern):\n",
    "        matched_string = pattern.group(0)\n",
    "        return pad_str(matched_string)\n",
    "    text = re.sub('[\\!\\?\\@\\^\\+\\*\\/\\,\\~\\|\\`\\=\\:\\;\\.\\#\\\\\\]', pad_pattern, text) \n",
    "        \n",
    "    text = re.sub('[^\\x00-\\x7F]+', pad_str(SPECIAL_TOKENS['non-ascii']), text) # replace non-ascii word with special word\n",
    "    \n",
    "    # indian dollar\n",
    "    \n",
    "    text = re.sub(\"(?<=[0-9])rs \", \" rs \", text, flags=re.IGNORECASE)\n",
    "    text = re.sub(\" rs(?=[0-9])\", \" rs \", text, flags=re.IGNORECASE)\n",
    "    \n",
    "    # clean text rules get from : https://www.kaggle.com/currie32/the-importance-of-cleaning-text\n",
    "    \n",
    "    text = re.sub(r\" (the[\\s]+|The[\\s]+)?US(A)? \", \" America \", text)\n",
    "    text = re.sub(r\" UK \", \" England \", text, flags=re.IGNORECASE)\n",
    "    text = re.sub(r\" india \", \" India \", text)\n",
    "    text = re.sub(r\" switzerland \", \" Switzerland \", text)\n",
    "    text = re.sub(r\" china \", \" China \", text)\n",
    "    text = re.sub(r\" chinese \", \" Chinese \", text) \n",
    "    text = re.sub(r\" imrovement \", \" improvement \", text, flags=re.IGNORECASE)\n",
    "    text = re.sub(r\" intially \", \" initially \", text, flags=re.IGNORECASE)\n",
    "    text = re.sub(r\" quora \", \" Quora \", text, flags=re.IGNORECASE)\n",
    "    text = re.sub(r\" dms \", \" direct messages \", text, flags=re.IGNORECASE)  \n",
    "    text = re.sub(r\" demonitization \", \" demonetization \", text, flags=re.IGNORECASE) \n",
    "    text = re.sub(r\" actived \", \" active \", text, flags=re.IGNORECASE)\n",
    "    text = re.sub(r\" kms \", \" kilometers \", text, flags=re.IGNORECASE)\n",
    "    text = re.sub(r\" cs \", \" computer science \", text, flags=re.IGNORECASE) \n",
    "    text = re.sub(r\" upvote\", \" up vote\", text, flags=re.IGNORECASE)\n",
    "    text = re.sub(r\" iPhone \", \" phone \", text, flags=re.IGNORECASE)\n",
    "    text = re.sub(r\" \\0rs \", \" rs \", text, flags=re.IGNORECASE)\n",
    "    text = re.sub(r\" calender \", \" calendar \", text, flags=re.IGNORECASE)\n",
    "    text = re.sub(r\" ios \", \" operating system \", text, flags=re.IGNORECASE)\n",
    "    text = re.sub(r\" gps \", \" GPS \", text, flags=re.IGNORECASE)\n",
    "    text = re.sub(r\" gst \", \" GST \", text, flags=re.IGNORECASE)\n",
    "    text = re.sub(r\" programing \", \" programming \", text, flags=re.IGNORECASE)\n",
    "    text = re.sub(r\" bestfriend \", \" best friend \", text, flags=re.IGNORECASE)\n",
    "    text = re.sub(r\" dna \", \" DNA \", text, flags=re.IGNORECASE)\n",
    "    text = re.sub(r\" III \", \" 3 \", text)\n",
    "    text = re.sub(r\" banglore \", \" Banglore \", text, flags=re.IGNORECASE)\n",
    "    text = re.sub(r\" J K \", \" JK \", text, flags=re.IGNORECASE)\n",
    "    text = re.sub(r\" J\\.K\\. \", \" JK \", text, flags=re.IGNORECASE)\n",
    "    \n",
    "    # typos identified with my eyes\n",
    "    \n",
    "    text = re.sub(r\" quikly \", \" quickly \", text)\n",
    "    text = re.sub(r\" unseccessful \", \" unsuccessful \", text)\n",
    "    text = re.sub(r\" demoniti[\\S]+ \", \" demonetization \", text, flags=re.IGNORECASE)\n",
    "    text = re.sub(r\" demoneti[\\S]+ \", \" demonetization \", text, flags=re.IGNORECASE)  \n",
    "    text = re.sub(r\" addmision \", \" admission \", text)\n",
    "    text = re.sub(r\" insititute \", \" institute \", text)\n",
    "    text = re.sub(r\" connectionn \", \" connection \", text)\n",
    "    text = re.sub(r\" permantley \", \" permanently \", text)\n",
    "    text = re.sub(r\" sylabus \", \" syllabus \", text)\n",
    "    text = re.sub(r\" sequrity \", \" security \", text)\n",
    "    text = re.sub(r\" undergraduation \", \" undergraduate \", text) # not typo, but GloVe can't find it\n",
    "    text = re.sub(r\"(?=[a-zA-Z])ig \", \"ing \", text)\n",
    "    text = re.sub(r\" latop\", \" laptop\", text)\n",
    "    text = re.sub(r\" programmning \", \" programming \", text)  \n",
    "    text = re.sub(r\" begineer \", \" beginner \", text)  \n",
    "    text = re.sub(r\" qoura \", \" Quora \", text)\n",
    "    text = re.sub(r\" wtiter \", \" writer \", text)  \n",
    "    text = re.sub(r\" litrate \", \" literate \", text)  \n",
    "\n",
    "      \n",
    "    # for words like A-B-C-D or \"A B C D\", \n",
    "    # if A,B,C,D individuaally has vector in glove:\n",
    "    #     it can be treat as separate words\n",
    "    # else:\n",
    "    #     replace it as a special word, A_B_C_D is enough, we'll deal with that word later\n",
    "    #\n",
    "    # Testcase: 'a 3-year-old 4 -tier car'\n",
    "    \n",
    "    def dash_dealer(pattern):\n",
    "        matched_string = pattern.group(0)\n",
    "        splited = matched_string.split('-')\n",
    "        splited = [sp.strip() for sp in splited if sp!=' ' and sp!='']\n",
    "        joined = ' '.join(splited)\n",
    "        parsed = nlp(joined)\n",
    "        for token in parsed:\n",
    "            # if one of the token is not common word, then join the word into one single word\n",
    "            if not token.has_vector or token.text in SPECIAL_TOKENS.values():\n",
    "                return '_'.join(splited)\n",
    "        # if all tokens are common words, then split them\n",
    "        return joined\n",
    "\n",
    "    text = re.sub(\"[a-zA-Z0-9\\-]*-[a-zA-Z0-9\\-]*\", dash_dealer, text)\n",
    "    \n",
    "    # try to see if sentence between quotes is meaningful\n",
    "    # rule:\n",
    "    #     if exist at least one word is \"not number\" and \"length longer than 2\" and \"it can be identified by SpaCy\":\n",
    "    #         then consider the string is meaningful\n",
    "    #     else:\n",
    "    #         replace the string with a special word, i.e. quoted_item\n",
    "    # Testcase:\n",
    "    # i am a good (programmer)      -> i am a good programmer\n",
    "    # i am a good (programmererer)  -> i am a good quoted_item\n",
    "    # i am \"i am a\"                 -> i am quoted_item\n",
    "    # i am \"i am a programmer\"      -> i am i am a programmer\n",
    "    # i am \"i am a programmererer\"  -> i am quoted_item\n",
    "    \n",
    "    def quoted_string_parser(pattern):\n",
    "        string = pattern.group(0)\n",
    "        parsed = nlp(string[1:-1])\n",
    "        is_meaningful = False\n",
    "        for token in parsed:\n",
    "            # if one of the token is meaningful, we'll consider the full string is meaningful\n",
    "            if len(token.text)>2 and not token.text.isdigit() and token.has_vector:\n",
    "                is_meaningful = True\n",
    "            elif token.text in SPECIAL_TOKENS.values():\n",
    "                is_meaningful = True\n",
    "            \n",
    "        if is_meaningful:\n",
    "            return string\n",
    "        else:\n",
    "            return pad_str(string[0]) + SPECIAL_TOKENS['quoted'] + pad_str(string[-1])\n",
    "\n",
    "    text = re.sub('\\\".*\\\"', quoted_string_parser, text)\n",
    "    text = re.sub(\"\\'.*\\'\", quoted_string_parser, text)\n",
    "    text = re.sub(\"\\(.*\\)\", quoted_string_parser, text)\n",
    "    text = re.sub(\"\\[.*\\]\", quoted_string_parser, text)\n",
    "    text = re.sub(\"\\{.*\\}\", quoted_string_parser, text)\n",
    "    text = re.sub(\"\\<.*\\>\", quoted_string_parser, text)\n",
    "\n",
    "    text = re.sub('[\\(\\)\\[\\]\\{\\}\\<\\>\\'\\\"]', pad_pattern, text) \n",
    "    \n",
    "    # the single 's' in this stage is 99% of not clean text, just kill it\n",
    "    text = re.sub(' s ', \" \", text)\n",
    "    \n",
    "    # reduce extra spaces into single spaces\n",
    "    text = re.sub('[\\s]+', \" \", text)\n",
    "    text = text.strip()\n",
    "    \n",
    "    return text"
   ]
  },
  {
   "cell_type": "code",
   "execution_count": 10,
   "metadata": {
    "_cell_guid": "f9a2e1e5-d11e-14e0-4ab1-8338c13a147a",
    "collapsed": false
   },
   "outputs": [
    {
     "ename": "NameError",
     "evalue": "name 'nlp' is not defined",
     "output_type": "error",
     "traceback": [
      "\u001b[0;31m---------------------------------------------------------------------------\u001b[0m",
      "\u001b[0;31mNameError\u001b[0m                                 Traceback (most recent call last)",
      "\u001b[0;32m<ipython-input-10-99bbb566318e>\u001b[0m in \u001b[0;36m<module>\u001b[0;34m()\u001b[0m\n\u001b[1;32m      4\u001b[0m     \u001b[0;32mif\u001b[0m \u001b[0mk\u001b[0m\u001b[0;34m%\u001b[0m\u001b[0;36m100000\u001b[0m\u001b[0;34m==\u001b[0m\u001b[0;36m0\u001b[0m\u001b[0;34m:\u001b[0m\u001b[0;34m\u001b[0m\u001b[0m\n\u001b[1;32m      5\u001b[0m         \u001b[0mprint\u001b[0m\u001b[0;34m(\u001b[0m\u001b[0;34m'Processed {} out of {}'\u001b[0m\u001b[0;34m.\u001b[0m\u001b[0mformat\u001b[0m\u001b[0;34m(\u001b[0m\u001b[0mk\u001b[0m\u001b[0;34m,\u001b[0m\u001b[0mlen\u001b[0m\u001b[0;34m(\u001b[0m\u001b[0mqid_dict\u001b[0m\u001b[0;34m)\u001b[0m\u001b[0;34m)\u001b[0m\u001b[0;34m)\u001b[0m\u001b[0;34m\u001b[0m\u001b[0m\n\u001b[0;32m----> 6\u001b[0;31m     \u001b[0mqid_dict\u001b[0m\u001b[0;34m[\u001b[0m\u001b[0mk\u001b[0m\u001b[0;34m]\u001b[0m \u001b[0;34m=\u001b[0m \u001b[0mclean_string\u001b[0m\u001b[0;34m(\u001b[0m\u001b[0mqid_dict\u001b[0m\u001b[0;34m[\u001b[0m\u001b[0mk\u001b[0m\u001b[0;34m]\u001b[0m\u001b[0;34m)\u001b[0m\u001b[0;34m\u001b[0m\u001b[0m\n\u001b[0m\u001b[1;32m      7\u001b[0m \u001b[0;34m\u001b[0m\u001b[0m\n\u001b[1;32m      8\u001b[0m \u001b[0;34m\u001b[0m\u001b[0m\n",
      "\u001b[0;32m<ipython-input-9-d0b559ff7bb2>\u001b[0m in \u001b[0;36mclean_string\u001b[0;34m(text)\u001b[0m\n\u001b[1;32m    161\u001b[0m         \u001b[0;32mreturn\u001b[0m \u001b[0mjoined\u001b[0m\u001b[0;34m\u001b[0m\u001b[0m\n\u001b[1;32m    162\u001b[0m \u001b[0;34m\u001b[0m\u001b[0m\n\u001b[0;32m--> 163\u001b[0;31m     \u001b[0mtext\u001b[0m \u001b[0;34m=\u001b[0m \u001b[0mre\u001b[0m\u001b[0;34m.\u001b[0m\u001b[0msub\u001b[0m\u001b[0;34m(\u001b[0m\u001b[0;34m\"[a-zA-Z0-9\\-]*-[a-zA-Z0-9\\-]*\"\u001b[0m\u001b[0;34m,\u001b[0m \u001b[0mdash_dealer\u001b[0m\u001b[0;34m,\u001b[0m \u001b[0mtext\u001b[0m\u001b[0;34m)\u001b[0m\u001b[0;34m\u001b[0m\u001b[0m\n\u001b[0m\u001b[1;32m    164\u001b[0m \u001b[0;34m\u001b[0m\u001b[0m\n\u001b[1;32m    165\u001b[0m     \u001b[0;31m# try to see if sentence between quotes is meaningful\u001b[0m\u001b[0;34m\u001b[0m\u001b[0;34m\u001b[0m\u001b[0m\n",
      "\u001b[0;32m/opt/conda/lib/python3.6/re.py\u001b[0m in \u001b[0;36msub\u001b[0;34m(pattern, repl, string, count, flags)\u001b[0m\n\u001b[1;32m    189\u001b[0m     \u001b[0ma\u001b[0m \u001b[0mcallable\u001b[0m\u001b[0;34m,\u001b[0m \u001b[0mit\u001b[0m\u001b[0;31m'\u001b[0m\u001b[0ms\u001b[0m \u001b[0mpassed\u001b[0m \u001b[0mthe\u001b[0m \u001b[0mmatch\u001b[0m \u001b[0mobject\u001b[0m \u001b[0;32mand\u001b[0m \u001b[0mmust\u001b[0m \u001b[0;32mreturn\u001b[0m\u001b[0;34m\u001b[0m\u001b[0m\n\u001b[1;32m    190\u001b[0m     a replacement string to be used.\"\"\"\n\u001b[0;32m--> 191\u001b[0;31m     \u001b[0;32mreturn\u001b[0m \u001b[0m_compile\u001b[0m\u001b[0;34m(\u001b[0m\u001b[0mpattern\u001b[0m\u001b[0;34m,\u001b[0m \u001b[0mflags\u001b[0m\u001b[0;34m)\u001b[0m\u001b[0;34m.\u001b[0m\u001b[0msub\u001b[0m\u001b[0;34m(\u001b[0m\u001b[0mrepl\u001b[0m\u001b[0;34m,\u001b[0m \u001b[0mstring\u001b[0m\u001b[0;34m,\u001b[0m \u001b[0mcount\u001b[0m\u001b[0;34m)\u001b[0m\u001b[0;34m\u001b[0m\u001b[0m\n\u001b[0m\u001b[1;32m    192\u001b[0m \u001b[0;34m\u001b[0m\u001b[0m\n\u001b[1;32m    193\u001b[0m \u001b[0;32mdef\u001b[0m \u001b[0msubn\u001b[0m\u001b[0;34m(\u001b[0m\u001b[0mpattern\u001b[0m\u001b[0;34m,\u001b[0m \u001b[0mrepl\u001b[0m\u001b[0;34m,\u001b[0m \u001b[0mstring\u001b[0m\u001b[0;34m,\u001b[0m \u001b[0mcount\u001b[0m\u001b[0;34m=\u001b[0m\u001b[0;36m0\u001b[0m\u001b[0;34m,\u001b[0m \u001b[0mflags\u001b[0m\u001b[0;34m=\u001b[0m\u001b[0;36m0\u001b[0m\u001b[0;34m)\u001b[0m\u001b[0;34m:\u001b[0m\u001b[0;34m\u001b[0m\u001b[0m\n",
      "\u001b[0;32m<ipython-input-9-d0b559ff7bb2>\u001b[0m in \u001b[0;36mdash_dealer\u001b[0;34m(pattern)\u001b[0m\n\u001b[1;32m    153\u001b[0m         \u001b[0msplited\u001b[0m \u001b[0;34m=\u001b[0m \u001b[0;34m[\u001b[0m\u001b[0msp\u001b[0m\u001b[0;34m.\u001b[0m\u001b[0mstrip\u001b[0m\u001b[0;34m(\u001b[0m\u001b[0;34m)\u001b[0m \u001b[0;32mfor\u001b[0m \u001b[0msp\u001b[0m \u001b[0;32min\u001b[0m \u001b[0msplited\u001b[0m \u001b[0;32mif\u001b[0m \u001b[0msp\u001b[0m\u001b[0;34m!=\u001b[0m\u001b[0;34m' '\u001b[0m \u001b[0;32mand\u001b[0m \u001b[0msp\u001b[0m\u001b[0;34m!=\u001b[0m\u001b[0;34m''\u001b[0m\u001b[0;34m]\u001b[0m\u001b[0;34m\u001b[0m\u001b[0m\n\u001b[1;32m    154\u001b[0m         \u001b[0mjoined\u001b[0m \u001b[0;34m=\u001b[0m \u001b[0;34m' '\u001b[0m\u001b[0;34m.\u001b[0m\u001b[0mjoin\u001b[0m\u001b[0;34m(\u001b[0m\u001b[0msplited\u001b[0m\u001b[0;34m)\u001b[0m\u001b[0;34m\u001b[0m\u001b[0m\n\u001b[0;32m--> 155\u001b[0;31m         \u001b[0mparsed\u001b[0m \u001b[0;34m=\u001b[0m \u001b[0mnlp\u001b[0m\u001b[0;34m(\u001b[0m\u001b[0mjoined\u001b[0m\u001b[0;34m)\u001b[0m\u001b[0;34m\u001b[0m\u001b[0m\n\u001b[0m\u001b[1;32m    156\u001b[0m         \u001b[0;32mfor\u001b[0m \u001b[0mtoken\u001b[0m \u001b[0;32min\u001b[0m \u001b[0mparsed\u001b[0m\u001b[0;34m:\u001b[0m\u001b[0;34m\u001b[0m\u001b[0m\n\u001b[1;32m    157\u001b[0m             \u001b[0;31m# if one of the token is not common word, then join the word into one single word\u001b[0m\u001b[0;34m\u001b[0m\u001b[0;34m\u001b[0m\u001b[0m\n",
      "\u001b[0;31mNameError\u001b[0m: name 'nlp' is not defined"
     ]
    }
   ],
   "source": [
    "# %%time\n",
    "\n",
    "for k in qid_dict:\n",
    "    if k%100000==0:\n",
    "        print('Processed {} out of {}'.format(k,len(qid_dict)))\n",
    "    qid_dict[k] = clean_string(qid_dict[k])\n",
    "\n",
    "        "
   ]
  },
  {
   "cell_type": "code",
   "execution_count": 11,
   "metadata": {
    "_cell_guid": "77e04496-efc3-addb-7a54-6d25c38f8eec",
    "collapsed": true
   },
   "outputs": [],
   "source": []
  },
  {
   "cell_type": "markdown",
   "metadata": {
    "_cell_guid": "c339aa2a-c9f4-bb52-d44c-8a7e95adc484"
   },
   "source": [
    "## process all questions in qid_dict using SpaCy"
   ]
  },
  {
   "cell_type": "code",
   "execution_count": 11,
   "metadata": {
    "_cell_guid": "6de775dc-f6aa-a3f9-2722-6c3fd6ed7c0e",
    "collapsed": false
   },
   "outputs": [
    {
     "name": "stdout",
     "output_type": "stream",
     "text": [
      "Processed 0 out of 537933\n"
     ]
    },
    {
     "ename": "NameError",
     "evalue": "name 'nlp' is not defined",
     "output_type": "error",
     "traceback": [
      "\u001b[0;31m---------------------------------------------------------------------------\u001b[0m",
      "\u001b[0;31mNameError\u001b[0m                                 Traceback (most recent call last)",
      "\u001b[0;32m<ipython-input-11-235c74893bbf>\u001b[0m in \u001b[0;36m<module>\u001b[0;34m()\u001b[0m\n\u001b[1;32m     11\u001b[0m         \u001b[0mqid_dict\u001b[0m\u001b[0;34m[\u001b[0m\u001b[0mk\u001b[0m\u001b[0;34m]\u001b[0m \u001b[0;34m=\u001b[0m \u001b[0;34m''\u001b[0m\u001b[0;34m\u001b[0m\u001b[0m\n\u001b[1;32m     12\u001b[0m \u001b[0;34m\u001b[0m\u001b[0m\n\u001b[0;32m---> 13\u001b[0;31m     \u001b[0mspacy_obj_dict\u001b[0m\u001b[0;34m[\u001b[0m\u001b[0mk\u001b[0m\u001b[0;34m]\u001b[0m \u001b[0;34m=\u001b[0m \u001b[0mnlp\u001b[0m\u001b[0;34m(\u001b[0m\u001b[0mqid_dict\u001b[0m\u001b[0;34m[\u001b[0m\u001b[0mk\u001b[0m\u001b[0;34m]\u001b[0m\u001b[0;34m)\u001b[0m\u001b[0;34m\u001b[0m\u001b[0m\n\u001b[0m",
      "\u001b[0;31mNameError\u001b[0m: name 'nlp' is not defined"
     ]
    }
   ],
   "source": [
    "# %%time\n",
    "\n",
    "spacy_obj_dict = {}\n",
    "total_len = len(qid_dict)\n",
    "for i,k in enumerate(qid_dict):\n",
    "    if i%50000==0:\n",
    "        print('Processed {} out of {}'.format(i,total_len))\n",
    "        \n",
    "    # some questions are null\n",
    "    if type(qid_dict[k])!= str:\n",
    "        qid_dict[k] = ''\n",
    "    \n",
    "    spacy_obj_dict[k] = nlp(qid_dict[k])"
   ]
  },
  {
   "cell_type": "code",
   "execution_count": 12,
   "metadata": {
    "_cell_guid": "c2dbd745-0b1e-94ea-2f3c-ecc6bc502cf4",
    "collapsed": true
   },
   "outputs": [],
   "source": []
  },
  {
   "cell_type": "code",
   "execution_count": 12,
   "metadata": {
    "_cell_guid": "bb5b8f04-5360-0353-f9f5-a6d9e79a389c",
    "collapsed": true
   },
   "outputs": [],
   "source": []
  },
  {
   "cell_type": "code",
   "execution_count": 12,
   "metadata": {
    "_cell_guid": "43ca25bb-8ebb-a7e2-592b-a9f9a41c3b7c",
    "collapsed": true
   },
   "outputs": [],
   "source": []
  },
  {
   "cell_type": "markdown",
   "metadata": {
    "_cell_guid": "21f331b6-9301-e7cd-e191-d1680bbd8d98"
   },
   "source": [
    "## Replace proper nouns in sentence to related types\n",
    "\n",
    "i.e. \n",
    "\n",
    "    'Google'  -> 'organization'\n",
    "    'Spanish' -> 'language'"
   ]
  },
  {
   "cell_type": "code",
   "execution_count": 12,
   "metadata": {
    "_cell_guid": "e300921a-40de-ad5f-2e45-ca5bfd18c6f6",
    "collapsed": true
   },
   "outputs": [],
   "source": [
    "# These are types defined by spaCy, replace proper nouns with a related common word\n",
    "# Since PERCENT, MONEY, QUANTITY, ORDINAL, CARDINAL are sharing very close meaning and is frequently being mis-classified, \n",
    "#     so I decided to replace all of them with \"number\"\n",
    "\n",
    "ENTITY_ENUM = {\n",
    "    '': '',\n",
    "    'PERSON': 'person',\n",
    "    'NORP': 'nationality',\n",
    "    'FAC': 'facility',\n",
    "    'ORG': 'organization',\n",
    "    'GPE': 'country',\n",
    "    'LOC': 'location',\n",
    "    'PRODUCT': 'product',\n",
    "    'EVENT': 'event',\n",
    "    'WORK_OF_ART': 'artwork',\n",
    "    'LANGUAGE': 'language',\n",
    "    'DATE': 'date',\n",
    "    'TIME': 'time',\n",
    "#     'PERCENT': 'percent',\n",
    "#     'MONEY': 'money',\n",
    "#     'QUANTITY': 'quantity',\n",
    "#     'ORDINAL': 'ordinal',\n",
    "#     'CARDINAL': 'cardinal',\n",
    "    'PERCENT': 'number',\n",
    "    'MONEY': 'number',\n",
    "    'QUANTITY': 'number',\n",
    "    'ORDINAL': 'number',\n",
    "    'CARDINAL': 'number',\n",
    "    'LAW': 'law'\n",
    "}\n",
    "\n",
    "NUMERIC_TYPES = set([\n",
    "    'DATE',\n",
    "    'TIME',\n",
    "    'PERCENT',\n",
    "    'MONEY',\n",
    "    'QUANTITY',\n",
    "    'ORDINAL',\n",
    "    'CARDINAL',\n",
    "])"
   ]
  },
  {
   "cell_type": "code",
   "execution_count": 13,
   "metadata": {
    "_cell_guid": "9c0c2d67-1428-d82a-33b0-6ccf52f3ad83",
    "collapsed": true
   },
   "outputs": [],
   "source": []
  },
  {
   "cell_type": "markdown",
   "metadata": {
    "_cell_guid": "87f1ec03-161c-0e8e-0744-1cf40be0c15d"
   },
   "source": [
    "## But we can't use ent_type directly\n",
    "\n",
    "here's a fast example:"
   ]
  },
  {
   "cell_type": "code",
   "execution_count": 13,
   "metadata": {
    "_cell_guid": "75d32a93-12dd-cc35-b83c-6fc8bbc82aa7",
    "collapsed": false
   },
   "outputs": [
    {
     "ename": "NameError",
     "evalue": "name 'nlp' is not defined",
     "output_type": "error",
     "traceback": [
      "\u001b[0;31m---------------------------------------------------------------------------\u001b[0m",
      "\u001b[0;31mNameError\u001b[0m                                 Traceback (most recent call last)",
      "\u001b[0;32m<ipython-input-13-ce6ffa282035>\u001b[0m in \u001b[0;36m<module>\u001b[0;34m()\u001b[0m\n\u001b[0;32m----> 1\u001b[0;31m \u001b[0mdoc1\u001b[0m \u001b[0;34m=\u001b[0m \u001b[0mnlp\u001b[0m\u001b[0;34m(\u001b[0m\u001b[0;34m'Is Hubert a good programmer?'\u001b[0m\u001b[0;34m)\u001b[0m\u001b[0;34m\u001b[0m\u001b[0m\n\u001b[0m\u001b[1;32m      2\u001b[0m \u001b[0mdoc2\u001b[0m \u001b[0;34m=\u001b[0m \u001b[0mnlp\u001b[0m\u001b[0;34m(\u001b[0m\u001b[0;34m'Hubert is eating bugs!'\u001b[0m\u001b[0;34m)\u001b[0m\u001b[0;34m\u001b[0m\u001b[0m\n\u001b[1;32m      3\u001b[0m \u001b[0;34m\u001b[0m\u001b[0m\n\u001b[1;32m      4\u001b[0m \u001b[0mprint\u001b[0m\u001b[0;34m(\u001b[0m\u001b[0mdoc1\u001b[0m\u001b[0;34m[\u001b[0m\u001b[0;36m1\u001b[0m\u001b[0;34m]\u001b[0m\u001b[0;34m.\u001b[0m\u001b[0mtext\u001b[0m\u001b[0;34m,\u001b[0m \u001b[0;34m'->'\u001b[0m\u001b[0;34m,\u001b[0m \u001b[0mdoc1\u001b[0m\u001b[0;34m[\u001b[0m\u001b[0;36m1\u001b[0m\u001b[0;34m]\u001b[0m\u001b[0;34m.\u001b[0m\u001b[0ment_type_\u001b[0m\u001b[0;34m)\u001b[0m \u001b[0;31m# can't recognize entity type\u001b[0m\u001b[0;34m\u001b[0m\u001b[0m\n\u001b[1;32m      5\u001b[0m \u001b[0mprint\u001b[0m\u001b[0;34m(\u001b[0m\u001b[0mdoc2\u001b[0m\u001b[0;34m[\u001b[0m\u001b[0;36m0\u001b[0m\u001b[0;34m]\u001b[0m\u001b[0;34m.\u001b[0m\u001b[0mtext\u001b[0m\u001b[0;34m,\u001b[0m \u001b[0;34m'->'\u001b[0m\u001b[0;34m,\u001b[0m \u001b[0mdoc2\u001b[0m\u001b[0;34m[\u001b[0m\u001b[0;36m0\u001b[0m\u001b[0;34m]\u001b[0m\u001b[0;34m.\u001b[0m\u001b[0ment_type_\u001b[0m\u001b[0;34m)\u001b[0m \u001b[0;31m# can recognize entity type is a person\u001b[0m\u001b[0;34m\u001b[0m\u001b[0m\n",
      "\u001b[0;31mNameError\u001b[0m: name 'nlp' is not defined"
     ]
    }
   ],
   "source": [
    "doc1 = nlp('Is Hubert a good programmer?')\n",
    "doc2 = nlp('Hubert is eating bugs!')\n",
    "\n",
    "print(doc1[1].text, '->', doc1[1].ent_type_) # can't recognize entity type\n",
    "print(doc2[0].text, '->', doc2[0].ent_type_) # can recognize entity type is a person"
   ]
  },
  {
   "cell_type": "markdown",
   "metadata": {
    "_cell_guid": "9536173f-9d7d-0564-145d-d8e00d2804e7"
   },
   "source": [
    "### Output\n",
    "\n",
    "    Hubert -> \n",
    "    Hubert -> PERSON"
   ]
  },
  {
   "cell_type": "code",
   "execution_count": 14,
   "metadata": {
    "_cell_guid": "bb042650-aa27-30c5-7b7a-df4a2f980280",
    "collapsed": true
   },
   "outputs": [],
   "source": []
  },
  {
   "cell_type": "markdown",
   "metadata": {
    "_cell_guid": "4dc24edc-0da9-a279-670e-862e6d7698c7"
   },
   "source": [
    "## Go through all questions and records entity type of all words"
   ]
  },
  {
   "cell_type": "code",
   "execution_count": 14,
   "metadata": {
    "_cell_guid": "5e9ae1de-318c-dd51-e2f0-20d302bec467",
    "collapsed": true
   },
   "outputs": [],
   "source": [
    "# if the second type count is extremely low, consider it as noise and the word has no second type\n",
    "threshold_of_second_type = 3"
   ]
  },
  {
   "cell_type": "code",
   "execution_count": 15,
   "metadata": {
    "_cell_guid": "78307f5b-adf7-ac56-8bb9-07c148f8303d",
    "collapsed": true
   },
   "outputs": [],
   "source": [
    "# %%time\n",
    "\n",
    "vote_dict = {}\n",
    "word_ent_type_dict = {}\n",
    "word_ent_type_second_dict = {}\n",
    "\n",
    "# construct vote dictionary\n",
    "\n",
    "for qid in spacy_obj_dict:\n",
    "    \n",
    "    if qid%100000==0:\n",
    "        print('Processing {} / {}'.format(qid,len(spacy_obj_dict)))\n",
    "    \n",
    "    for token in spacy_obj_dict[qid]:\n",
    "            \n",
    "        if token.lower_ not in vote_dict:\n",
    "            vote_dict[token.lower_] = {}\n",
    "\n",
    "        if token.ent_type_ not in vote_dict[token.lower_]:\n",
    "            vote_dict[token.lower_][token.ent_type_] = 0\n",
    "        \n",
    "        # if the token has_vector is True, maybe we shouldn't record its \n",
    "        \n",
    "        vote_dict[token.lower_][token.ent_type_] += 1 # TODO: not sure if storing in lowercase form is safe ?\n",
    "\n",
    "        \n",
    "# vote for what should the type be\n",
    "    \n",
    "for key in vote_dict:\n",
    "    \n",
    "    # non-type has lower priority\n",
    "    if '' in vote_dict[key]:\n",
    "        vote_dict[key][''] = vote_dict[key][''] - 0.1\n",
    "\n",
    "    ents = list(vote_dict[key].keys())\n",
    "    bi_list = [\n",
    "        ents,\n",
    "        [vote_dict[key][ent] for ent in ents]\n",
    "    ]\n",
    "    \n",
    "    # if several ent_type_ have same count, just let it go, making them share same ent_type_ is enough\n",
    "    # TODO: if have time, can design a better metric to deal with second graded type\n",
    "    sorted_idx = np.argsort(bi_list[1])\n",
    "    \n",
    "    if sorted_idx.shape[0]>1:\n",
    "        best_idx = sorted_idx[-1]\n",
    "        second_idx = sorted_idx[-2]\n",
    "        word_ent_type_dict[key] = bi_list[0][best_idx]\n",
    "        if bi_list[1][second_idx]>threshold_of_second_type:\n",
    "            word_ent_type_second_dict[key] = bi_list[0][second_idx]\n",
    "    else:\n",
    "        best_idx = sorted_idx[-1]\n",
    "        word_ent_type_dict[key] = bi_list[0][best_idx]"
   ]
  },
  {
   "cell_type": "code",
   "execution_count": 16,
   "metadata": {
    "_cell_guid": "f8ec1ed0-35a4-16f5-1202-4c390687b3f3",
    "collapsed": true
   },
   "outputs": [],
   "source": [
    "# APIs to access entity type\n",
    "\n",
    "def token_type_lookup(token, report_detail=False):\n",
    "    \n",
    "    if type(token)==str:\n",
    "        token = nlp(token)[0]\n",
    "        \n",
    "    key = token.lower_\n",
    "    \n",
    "    try:\n",
    "        if report_detail:\n",
    "            print(ENTITY_ENUM[word_ent_type_dict[key]], ' <= ', {ENTITY_ENUM[ent_t] : vote_dict[key][ent_t] for ent_t in vote_dict[key]} )\n",
    "\n",
    "        return word_ent_type_dict[key]\n",
    "    \n",
    "    except KeyError:\n",
    "        return ''\n",
    "\n",
    "def is_token_has_second_type(token):\n",
    "    \n",
    "    if type(token)==str:\n",
    "        token = nlp(token)[0]\n",
    "        \n",
    "    key = token.lower_\n",
    "    \n",
    "    try:\n",
    "        return key in word_ent_type_second_dict\n",
    "    except KeyError:\n",
    "        return False\n",
    "\n",
    "def token_second_type_lookup(token, report_detail=False):\n",
    "    \n",
    "    if type(token)==str:\n",
    "        token = nlp(token)[0]\n",
    "        \n",
    "    key = token.lower_\n",
    "    \n",
    "    try:\n",
    "        if report_detail:\n",
    "            print(ENTITY_ENUM[word_ent_type_second_dict[key]], ' <= ', {ENTITY_ENUM[ent_t] : vote_dict[key][ent_t] for ent_t in vote_dict[key]} )\n",
    "\n",
    "        return word_ent_type_second_dict[key]\n",
    "    except KeyError:\n",
    "        return ''"
   ]
  },
  {
   "cell_type": "markdown",
   "metadata": {
    "_cell_guid": "cb3396eb-2e77-8f59-9242-0040c26044d5"
   },
   "source": [
    "### quick tests"
   ]
  },
  {
   "cell_type": "code",
   "execution_count": 17,
   "metadata": {
    "_cell_guid": "2f006f21-b9d3-8a72-8601-c8704fa5abe7",
    "collapsed": false
   },
   "outputs": [
    {
     "name": "stdout",
     "output_type": "stream",
     "text": [
      "ms\n"
     ]
    },
    {
     "ename": "NameError",
     "evalue": "name 'nlp' is not defined",
     "output_type": "error",
     "traceback": [
      "\u001b[0;31m---------------------------------------------------------------------------\u001b[0m",
      "\u001b[0;31mNameError\u001b[0m                                 Traceback (most recent call last)",
      "\u001b[0;32m<ipython-input-17-6bd487c0512a>\u001b[0m in \u001b[0;36m<module>\u001b[0;34m()\u001b[0m\n\u001b[1;32m      9\u001b[0m \u001b[0;32mfor\u001b[0m \u001b[0mtestcase\u001b[0m \u001b[0;32min\u001b[0m \u001b[0mtestcases\u001b[0m\u001b[0;34m:\u001b[0m\u001b[0;34m\u001b[0m\u001b[0m\n\u001b[1;32m     10\u001b[0m     \u001b[0mprint\u001b[0m\u001b[0;34m(\u001b[0m\u001b[0mtestcase\u001b[0m\u001b[0;34m)\u001b[0m\u001b[0;34m\u001b[0m\u001b[0m\n\u001b[0;32m---> 11\u001b[0;31m     \u001b[0mtoken_type_lookup\u001b[0m\u001b[0;34m(\u001b[0m\u001b[0mtestcase\u001b[0m\u001b[0;34m,\u001b[0m \u001b[0mreport_detail\u001b[0m\u001b[0;34m=\u001b[0m\u001b[0;32mTrue\u001b[0m\u001b[0;34m)\u001b[0m\u001b[0;34m\u001b[0m\u001b[0m\n\u001b[0m\u001b[1;32m     12\u001b[0m     \u001b[0mprint\u001b[0m\u001b[0;34m(\u001b[0m\u001b[0;34m)\u001b[0m\u001b[0;34m\u001b[0m\u001b[0m\n",
      "\u001b[0;32m<ipython-input-16-54817a517eae>\u001b[0m in \u001b[0;36mtoken_type_lookup\u001b[0;34m(token, report_detail)\u001b[0m\n\u001b[1;32m      4\u001b[0m \u001b[0;34m\u001b[0m\u001b[0m\n\u001b[1;32m      5\u001b[0m     \u001b[0;32mif\u001b[0m \u001b[0mtype\u001b[0m\u001b[0;34m(\u001b[0m\u001b[0mtoken\u001b[0m\u001b[0;34m)\u001b[0m\u001b[0;34m==\u001b[0m\u001b[0mstr\u001b[0m\u001b[0;34m:\u001b[0m\u001b[0;34m\u001b[0m\u001b[0m\n\u001b[0;32m----> 6\u001b[0;31m         \u001b[0mtoken\u001b[0m \u001b[0;34m=\u001b[0m \u001b[0mnlp\u001b[0m\u001b[0;34m(\u001b[0m\u001b[0mtoken\u001b[0m\u001b[0;34m)\u001b[0m\u001b[0;34m[\u001b[0m\u001b[0;36m0\u001b[0m\u001b[0;34m]\u001b[0m\u001b[0;34m\u001b[0m\u001b[0m\n\u001b[0m\u001b[1;32m      7\u001b[0m \u001b[0;34m\u001b[0m\u001b[0m\n\u001b[1;32m      8\u001b[0m     \u001b[0mkey\u001b[0m \u001b[0;34m=\u001b[0m \u001b[0mtoken\u001b[0m\u001b[0;34m.\u001b[0m\u001b[0mlower_\u001b[0m\u001b[0;34m\u001b[0m\u001b[0m\n",
      "\u001b[0;31mNameError\u001b[0m: name 'nlp' is not defined"
     ]
    }
   ],
   "source": [
    "testcases = [\n",
    "    'ms',\n",
    "    'taiwanese',\n",
    "    'google',\n",
    "    'tensorflow',\n",
    "    'mac'\n",
    "]\n",
    "\n",
    "for testcase in testcases:\n",
    "    print(testcase)\n",
    "    token_type_lookup(testcase, report_detail=True)\n",
    "    print()"
   ]
  },
  {
   "cell_type": "markdown",
   "metadata": {
    "_cell_guid": "171a0618-e419-2737-4fa8-e4e39b992165"
   },
   "source": [
    "    ms\n",
    "      <=  {'': 1229.9, 'organization': 101, 'date': 13, 'facility': 26, 'number': 2, 'person': 7, 'country': 13, 'artwork': 1, 'product': 4, 'language': 3}\n",
    "\n",
    "    taiwanese\n",
    "    nationality  <=  {'nationality': 25}\n",
    "\n",
    "    google\n",
    "    organization  <=  {'': 1306.9, 'organization': 1872, 'country': 235, 'location': 50, 'person': 590, 'facility': 65, 'product': 87, 'nationality': 11, 'law': 2, 'artwork': 28, 'date': 3}\n",
    "\n",
    "    tensorflow\n",
    "      <=  {'organization': 5, '': 24.9, 'country': 5, 'person': 5, 'product': 1}\n",
    "\n",
    "    mac\n",
    "      <=  {'': 456.9, 'person': 144, 'organization': 104, 'artwork': 3, 'date': 4, 'product': 11, 'facility': 4, 'country': 1, 'location': 5}"
   ]
  },
  {
   "cell_type": "code",
   "execution_count": 18,
   "metadata": {
    "_cell_guid": "38cc30ea-7e2d-c214-1ef6-6bc3f5ecaffb",
    "collapsed": true
   },
   "outputs": [],
   "source": []
  },
  {
   "cell_type": "markdown",
   "metadata": {
    "_cell_guid": "7d9a6698-f577-37f0-765c-aa9b25471c9d"
   },
   "source": [
    "## Start to clean up questions with spaCy"
   ]
  },
  {
   "cell_type": "code",
   "execution_count": 18,
   "metadata": {
    "_cell_guid": "4022ed94-81d9-a2a2-2258-dbce4dee6a87",
    "collapsed": true
   },
   "outputs": [],
   "source": [
    "exception_list =  set(['need']) # spaCy identifies need's lamma as 'ne', which is not we want\n",
    "numeric_types = set(['DATE', 'TIME', 'PERCENT', 'MONEY', 'QUANTITY', 'ORDINAL', 'CARDINAL'])\n",
    "\n",
    "'''\n",
    "Pseudo code:\n",
    "\n",
    "for each token:\n",
    "\n",
    "    if token is in exception_list:\n",
    "        use its original form (i.e. \"need\" can be parsed as \"ne\" ... we absolutely will use \"need\")\n",
    "        \n",
    "    elif token is in SPECIAL_TOKENS:\n",
    "        if token's entity type can be identified:\n",
    "            use the ent_type_ detected\n",
    "        else:\n",
    "            use the special token directly\n",
    "        \n",
    "    elif token is a special character or not cleaned ' ' or 's':\n",
    "        skip it\n",
    "        \n",
    "    # cuz we don't want a single proper noun being expended into several words\n",
    "    # ex: \n",
    "    # 'meet you on 2017-02-31'\n",
    "    # (O) => meet you on date\n",
    "    # (X) => meet you on date date date\n",
    "    elif ( the current ent_type_ and previous ent_type_ are both numeric types in NUMERIC_TYPES ) or ( the current ent_type_ == previous ent_type_ ):\n",
    "        skip it\n",
    "        \n",
    "    elif ( token is labeled with an ent_type_ in word_ent_type_dict ):\n",
    "        replace the token with ent_type_ specified in word_ent_type_dict\n",
    "        \n",
    "    elif ( the transform only changes uppercases to lowercases ) and ( the changes happened not only on the first char ):\n",
    "        then it is a proper noun (in most cases) , we'll try to pick the largest ent_type_ in word_ent_type_dict which is not ''\n",
    "        \n",
    "    # i.e. the token's ent_type_ cannot be found, is either a very common word or a very rare word\n",
    "    else:\n",
    "        if token's lemma == '-PRON-':\n",
    "            it's a weird case, just use its original form\n",
    "        elif token's lemma has_vector is true: # i.e. can be identified by GloVe\n",
    "            use the lemma form\n",
    "        elif the token has second ent_type_ usable:\n",
    "            use the second ent_type_\n",
    "        elif the token itself has_vector is true:\n",
    "            use the token's raw text\n",
    "        # have no idea what happenned, most cases are \"very rare proper noun\" or \"type\"\n",
    "        else:\n",
    "            use \"something as a replacement\"\n",
    "            \n",
    "'''\n",
    "\n",
    "def process_question_with_spacy(spacy_obj, debug=False, show_fail=False, idx=None):\n",
    "\n",
    "    def not_alpha_or_digit(token):\n",
    "        ch = token.text[0]\n",
    "        return not (ch.isalpha() or ch.isdigit())\n",
    "    \n",
    "    result_word_list = []\n",
    "    res = ''\n",
    "    \n",
    "    # for continuous entity type string, we need only single term. \n",
    "    # EX: \"2017-01-01\"\n",
    "    # => \"time time time\" (X)\n",
    "    # => \"time\" (O)\n",
    "    previous_ent_type = None\n",
    "    \n",
    "    is_a_word_parsed_fail = False\n",
    "    fail_words = []\n",
    "    \n",
    "    for token in spacy_obj:\n",
    "        \n",
    "        global_ent_type = token_type_lookup(token)\n",
    "        \n",
    "        # problematic token, use its base form\n",
    "        if token.text in exception_list:\n",
    "            \n",
    "            previous_ent_type = None\n",
    "            result_word_list.append(token.text)\n",
    "        \n",
    "        # special kind of tokens\n",
    "        elif token.text in SPECIAL_TOKENS.values():\n",
    "            \n",
    "            # we have no choice but use the entity type detected by spaCy directly, but it still might fail\n",
    "            if token.ent_type_!='':\n",
    "                previous_ent_type = token.ent_type_\n",
    "                result_word_list.append(token.ent_type_)\n",
    "            \n",
    "            else:\n",
    "                previous_ent_type = None\n",
    "                result_word_list.append(token.text)\n",
    "                \n",
    "            \n",
    "        # skip none words tokens\n",
    "        elif not_alpha_or_digit(token) or token.text==' ' or token.text=='s':\n",
    "            previous_ent_type = None\n",
    "            if debug: print(token.text, ' : remove punc or special chars')\n",
    "            \n",
    "            \n",
    "        # if the \"remove stop word\" flag is set to True\n",
    "        elif is_remove_stopwords and token.lemma_ in is_remove_stopwords:\n",
    "            previous_ent_type = None\n",
    "            if debug: print(token.text, ' : remove stop word')\n",
    "        \n",
    "        \n",
    "        # contiguous same type, skip it\n",
    "        elif global_ent_type==previous_ent_type or token.ent_type_==previous_ent_type:\n",
    "            if debug: print('contiguous same type')\n",
    "        elif global_ent_type in NUMERIC_TYPES and previous_ent_type in NUMERIC_TYPES:\n",
    "            if debug: print('contiguous numeric')\n",
    "        elif token.ent_type_ in NUMERIC_TYPES and previous_ent_type in NUMERIC_TYPES:\n",
    "            if debug: print('contiguous numeric')\n",
    "                \n",
    "        \n",
    "        # number without an ent_type_\n",
    "        elif token.text.isdigit():\n",
    "            \n",
    "            if debug: print(token.text, 'force to be number')\n",
    "                \n",
    "            if previous_ent_type in NUMERIC_TYPES:\n",
    "                pass\n",
    "            else:\n",
    "                previous_ent_type = 'CARDINAL' # any number type would be okay\n",
    "                result_word_list.append('number')\n",
    "\n",
    "    \n",
    "        # replace proper nouns into name entities. \n",
    "        # EX:\n",
    "        # Original : Taiwan is next to China\n",
    "        # Result   : country is next to country \n",
    "        elif global_ent_type!='':\n",
    "            \n",
    "            result_word_list.append(ENTITY_ENUM[global_ent_type])\n",
    "            previous_ent_type = global_ent_type\n",
    "            if debug: print(token.text, ' : sub ent_type:', ENTITY_ENUM[global_ent_type])\n",
    "            \n",
    "            \n",
    "        # Identify if a word is proper noun or not, if it is a proper noun, we'll try to use second highest rated ent_type_\n",
    "        #\n",
    "        # A proper noun has following special patterns:\n",
    "        #     1. its lemma_ (base form) returned by spaCy is just its lowercase form\n",
    "        #     2. if one of its character except the first character is uppercase, it is a propernoun (in most cases)\n",
    "        # except the special cases like \"I LOVE YOU\", we cal say that if (1.) and (2.), then the token is proper noun\n",
    "        #\n",
    "        # for cases like \"Tensorflow\", we have no good rule to identify it is a proper noun or not ... let's just move on\n",
    "        elif token.lower_==token.lemma_ and token.text[1:]!=token.lemma_[1:] and is_token_has_second_type(token):\n",
    "            second_type = token_second_type_lookup(token)\n",
    "            result_word_list.append(ENTITY_ENUM[second_type])\n",
    "            if debug: print(token.text, ' : use second ent_type:', ENTITY_ENUM[second_type])\n",
    "            previous_ent_type = second_type\n",
    "        \n",
    "        \n",
    "        # words arrive here are either \"extremely common\" or \"extremely rare and has no method to deal with\"\n",
    "        else:\n",
    "            # A weird behavior of SpaCy, it substitutes [I, my, they] into '-PRON-', which mean pronoun (代名詞)\n",
    "            # More detail in : https://github.com/explosion/spaCy/issues/962\n",
    "            if token.lemma_=='-PRON-':\n",
    "                result_word_list.append(token.lower_)\n",
    "                res = token.lower\n",
    "                previous_ent_type = None\n",
    "            \n",
    "            # the lemma can be identified by GloVe\n",
    "            elif nlp(token.lemma_)[0].has_vector:\n",
    "                result_word_list.append(token.lemma_)\n",
    "                res = token.lemma_\n",
    "                previous_ent_type = None\n",
    "            \n",
    "            # the lemma cannot be identified, very probably a proper noun\n",
    "            elif is_token_has_second_type(token):\n",
    "                second_type = token_second_type_lookup(token)\n",
    "                result_word_list.append(ENTITY_ENUM[second_type])\n",
    "                res = ENTITY_ENUM[second_type]\n",
    "                previous_ent_type = second_type\n",
    "                if debug: print(token.text, ' : use second ent_type in else :', ENTITY_ENUM[second_type])\n",
    "            \n",
    "            # the lemma is not in glove and Spacy can't identify if it is a proper noun, last try, \n",
    "            #      if the word itself can be identified by GloVe or not\n",
    "            elif nlp(token.lower_)[0].has_vector:\n",
    "                result_word_list.append(token.lower_)\n",
    "                res = token.lower_\n",
    "                previous_ent_type = None\n",
    "                if debug: print(token.text, ' : the token itself can be identified :', token.lower_)\n",
    "            elif token.has_vector:\n",
    "                result_word_list.append(token.text)\n",
    "                res = token.text\n",
    "                previous_ent_type = None\n",
    "                if debug: print(token.text, ' : the token itself can be identified :', token.text)\n",
    "                \n",
    "            # Damn, I have totally no idea what's going on\n",
    "            # You got to deal with it by yourself\n",
    "            # In my case, I use fasttext to deal with it\n",
    "            else:\n",
    "                is_a_word_parsed_fail = True\n",
    "                fail_words.append(token.text)\n",
    "                previous_ent_type = None\n",
    "                \n",
    "                #  Question:\n",
    "                #  can we replace all this kind of word into \"something\" ?\n",
    "                result_word_list.append(SPECIAL_TOKENS['undefined'])\n",
    "                if debug: print(token.text, ' : can\\'t identify, replace with \"something\"')\n",
    "                \n",
    "    \n",
    "    if show_fail and is_a_word_parsed_fail:\n",
    "        if idx!=None:\n",
    "            print('At qid=', idx)\n",
    "        print('Fail words: ', fail_words)\n",
    "        print('Before:', spacy_obj.text)\n",
    "        print('After: ', ' '.join(result_word_list))\n",
    "        print('====================================================================')\n",
    "    \n",
    "    return np.array(result_word_list)"
   ]
  },
  {
   "cell_type": "markdown",
   "metadata": {
    "_cell_guid": "593431d3-a1dc-9308-325c-380374ea3ff0"
   },
   "source": [
    "### show part of the result\n",
    "\n",
    "you can see most of them are typo and rare words"
   ]
  },
  {
   "cell_type": "code",
   "execution_count": 19,
   "metadata": {
    "_cell_guid": "fb5618d2-2296-1d93-7a9e-50e1895fdcf7",
    "collapsed": false
   },
   "outputs": [
    {
     "ename": "KeyError",
     "evalue": "1",
     "output_type": "error",
     "traceback": [
      "\u001b[0;31m---------------------------------------------------------------------------\u001b[0m",
      "\u001b[0;31mKeyError\u001b[0m                                  Traceback (most recent call last)",
      "\u001b[0;32m<ipython-input-19-e86f2ca3d5b0>\u001b[0m in \u001b[0;36m<module>\u001b[0;34m()\u001b[0m\n\u001b[1;32m      1\u001b[0m \u001b[0;32mfor\u001b[0m \u001b[0mk\u001b[0m \u001b[0;32min\u001b[0m \u001b[0mrange\u001b[0m\u001b[0;34m(\u001b[0m\u001b[0;36m1\u001b[0m\u001b[0;34m,\u001b[0m\u001b[0;36m300\u001b[0m\u001b[0;34m)\u001b[0m\u001b[0;34m:\u001b[0m\u001b[0;34m\u001b[0m\u001b[0m\n\u001b[0;32m----> 2\u001b[0;31m     \u001b[0mprocess_question_with_spacy\u001b[0m\u001b[0;34m(\u001b[0m\u001b[0mspacy_obj_dict\u001b[0m\u001b[0;34m[\u001b[0m\u001b[0mk\u001b[0m\u001b[0;34m]\u001b[0m\u001b[0;34m,\u001b[0m \u001b[0mshow_fail\u001b[0m\u001b[0;34m=\u001b[0m\u001b[0;32mTrue\u001b[0m\u001b[0;34m,\u001b[0m \u001b[0midx\u001b[0m\u001b[0;34m=\u001b[0m\u001b[0mk\u001b[0m\u001b[0;34m)\u001b[0m\u001b[0;34m\u001b[0m\u001b[0m\n\u001b[0m",
      "\u001b[0;31mKeyError\u001b[0m: 1"
     ]
    }
   ],
   "source": [
    "for k in range(1,300):\n",
    "    process_question_with_spacy(spacy_obj_dict[k], show_fail=True, idx=k)"
   ]
  },
  {
   "cell_type": "markdown",
   "metadata": {
    "_cell_guid": "2ad29fe4-47c3-1b32-3f57-95772297c418"
   },
   "source": [
    "### Output\n",
    "\n",
    "---\n",
    "\n",
    "    At qid= 21\n",
    "    Fail words:  ['biprism']\n",
    "    Before: method to find separation of slits using fresnel biprism ?\n",
    "    After:  method to find separation of slit use fresnel something\n",
    "\n",
    "---\n",
    "\n",
    "    At qid= 113\n",
    "    Fail words:  ['israil']\n",
    "    Before: who is israil friend ?\n",
    "    After:  who be something friend\n",
    "\n",
    "---\n",
    "\n",
    "    At qid= 162\n",
    "    Fail words:  ['burma_Rohingya']\n",
    "    Before: why India does not apply the \" burma_Rohingya model \" to deport illegal Bangladeshis ?\n",
    "    After:  why country do not apply the something model to deport illegal bangladeshis\n",
    "\n",
    "---\n",
    "\n",
    "    At qid= 221\n",
    "    Fail words:  ['gonulcelen']\n",
    "    Before: where can I watch gonulcelen with english subtitles ?\n",
    "    After:  where can i watch something with language subtitle\n",
    "\n",
    "---\n",
    "\n",
    "    At qid= 251\n",
    "    Fail words:  ['Jaish_e_Mohammad']\n",
    "    Before: why does China block sanctions at the UN against the Jaish_e_Mohammad ( quoted_item ) chief , Masood Azhar ?\n",
    "    After:  why do country block sanction at the organization against the something quoted_item chief person\n",
    "\n",
    "---\n",
    "\n",
    "    At qid= 261\n",
    "    Fail words:  ['yakshini']\n",
    "    Before: what are some yakshini mantras ?\n",
    "    After:  what be some something mantra\n",
    "\n",
    "---\n",
    "\n",
    "    At qid= 293\n",
    "    Fail words:  ['Waveclues']\n",
    "    Before: how would you review the site Waveclues ?\n",
    "    After:  how would you review the site something"
   ]
  },
  {
   "cell_type": "code",
   "execution_count": 20,
   "metadata": {
    "_cell_guid": "34b163fc-a695-d5e5-3465-a812b5d52c90",
    "collapsed": true
   },
   "outputs": [],
   "source": [
    "# %%time\n",
    "qid_spacy_cleaned_question_dict = {}\n",
    "qid_spacy_cleaned_word_lists_dict = {}\n",
    "\n",
    "for i,k in enumerate(spacy_obj_dict):\n",
    "    \n",
    "    if i%50000==0:\n",
    "        print('Processed {} out of {}'.format(i,total_len))\n",
    "    \n",
    "    word_list = process_question_with_spacy(spacy_obj_dict[k])\n",
    "    qid_spacy_cleaned_word_lists_dict[k] = word_list\n",
    "    qid_spacy_cleaned_question_dict[k] = ' '.join(word_list)"
   ]
  },
  {
   "cell_type": "code",
   "execution_count": 21,
   "metadata": {
    "_cell_guid": "983c6d41-aab0-2fe5-ca90-5fc74c2cae91",
    "collapsed": true
   },
   "outputs": [],
   "source": []
  },
  {
   "cell_type": "markdown",
   "metadata": {
    "_cell_guid": "eda2e743-e98b-775f-5687-d6bf07a4bd21"
   },
   "source": [
    "### create a method to process any input string"
   ]
  },
  {
   "cell_type": "code",
   "execution_count": 21,
   "metadata": {
    "_cell_guid": "9de8bd7b-ff17-0529-25c0-9a21d646dd5f",
    "collapsed": true
   },
   "outputs": [],
   "source": [
    "# This is the summary of this kernel, so simple LOL\n",
    "def process_new_string(s):\n",
    "    s = clean_string(s)\n",
    "    s = nlp(s)\n",
    "    s = process_question_with_spacy(s)\n",
    "    return s"
   ]
  },
  {
   "cell_type": "code",
   "execution_count": 22,
   "metadata": {
    "_cell_guid": "546f6433-9439-64b1-8ec3-4d7bdde897cf",
    "collapsed": true
   },
   "outputs": [],
   "source": []
  },
  {
   "cell_type": "markdown",
   "metadata": {
    "_cell_guid": "910e988d-d97b-9d39-6e54-0b2f2c2ad9c4"
   },
   "source": [
    "## Custom testcases\n",
    "Looks kind of pretty nice :)"
   ]
  },
  {
   "cell_type": "code",
   "execution_count": 22,
   "metadata": {
    "_cell_guid": "682342db-d4ad-0954-ad71-03559769a7d9",
    "collapsed": false
   },
   "outputs": [
    {
     "name": "stdout",
     "output_type": "stream",
     "text": [
      "Hi! I'm Hubert, I am new to Kaggle and this is my first Kernel ! Hope you like It ~ \n"
     ]
    },
    {
     "ename": "NameError",
     "evalue": "name 'nlp' is not defined",
     "output_type": "error",
     "traceback": [
      "\u001b[0;31m---------------------------------------------------------------------------\u001b[0m",
      "\u001b[0;31mNameError\u001b[0m                                 Traceback (most recent call last)",
      "\u001b[0;32m<ipython-input-22-ff406465b07e>\u001b[0m in \u001b[0;36m<module>\u001b[0;34m()\u001b[0m\n\u001b[1;32m     27\u001b[0m \u001b[0;32mfor\u001b[0m \u001b[0mtestcase\u001b[0m \u001b[0;32min\u001b[0m \u001b[0mtestcases\u001b[0m\u001b[0;34m:\u001b[0m\u001b[0;34m\u001b[0m\u001b[0m\n\u001b[1;32m     28\u001b[0m     \u001b[0mprint\u001b[0m\u001b[0;34m(\u001b[0m\u001b[0mtestcase\u001b[0m\u001b[0;34m)\u001b[0m\u001b[0;34m\u001b[0m\u001b[0m\n\u001b[0;32m---> 29\u001b[0;31m     \u001b[0mprint\u001b[0m\u001b[0;34m(\u001b[0m\u001b[0;34m'=> '\u001b[0m \u001b[0;34m+\u001b[0m \u001b[0;34m' '\u001b[0m\u001b[0;34m.\u001b[0m\u001b[0mjoin\u001b[0m\u001b[0;34m(\u001b[0m\u001b[0mprocess_new_string\u001b[0m\u001b[0;34m(\u001b[0m\u001b[0mtestcase\u001b[0m\u001b[0;34m)\u001b[0m\u001b[0;34m)\u001b[0m\u001b[0;34m)\u001b[0m\u001b[0;34m\u001b[0m\u001b[0m\n\u001b[0m\u001b[1;32m     30\u001b[0m     \u001b[0mprint\u001b[0m\u001b[0;34m(\u001b[0m\u001b[0;34m'\\n========================================================================================================\\n'\u001b[0m\u001b[0;34m)\u001b[0m\u001b[0;34m\u001b[0m\u001b[0m\n\u001b[1;32m     31\u001b[0m \u001b[0;34m\u001b[0m\u001b[0m\n",
      "\u001b[0;32m<ipython-input-21-f300c2dd8c7a>\u001b[0m in \u001b[0;36mprocess_new_string\u001b[0;34m(s)\u001b[0m\n\u001b[1;32m      2\u001b[0m \u001b[0;32mdef\u001b[0m \u001b[0mprocess_new_string\u001b[0m\u001b[0;34m(\u001b[0m\u001b[0ms\u001b[0m\u001b[0;34m)\u001b[0m\u001b[0;34m:\u001b[0m\u001b[0;34m\u001b[0m\u001b[0m\n\u001b[1;32m      3\u001b[0m     \u001b[0ms\u001b[0m \u001b[0;34m=\u001b[0m \u001b[0mclean_string\u001b[0m\u001b[0;34m(\u001b[0m\u001b[0ms\u001b[0m\u001b[0;34m)\u001b[0m\u001b[0;34m\u001b[0m\u001b[0m\n\u001b[0;32m----> 4\u001b[0;31m     \u001b[0ms\u001b[0m \u001b[0;34m=\u001b[0m \u001b[0mnlp\u001b[0m\u001b[0;34m(\u001b[0m\u001b[0ms\u001b[0m\u001b[0;34m)\u001b[0m\u001b[0;34m\u001b[0m\u001b[0m\n\u001b[0m\u001b[1;32m      5\u001b[0m     \u001b[0ms\u001b[0m \u001b[0;34m=\u001b[0m \u001b[0mprocess_question_with_spacy\u001b[0m\u001b[0;34m(\u001b[0m\u001b[0ms\u001b[0m\u001b[0;34m)\u001b[0m\u001b[0;34m\u001b[0m\u001b[0m\n\u001b[1;32m      6\u001b[0m     \u001b[0;32mreturn\u001b[0m \u001b[0ms\u001b[0m\u001b[0;34m\u001b[0m\u001b[0m\n",
      "\u001b[0;31mNameError\u001b[0m: name 'nlp' is not defined"
     ]
    }
   ],
   "source": [
    "testcases = [\n",
    "    \n",
    "    # testcases writen by me or randomly copy-paste from websites\n",
    "    \n",
    "    'Hi! I\\'m Hubert, I am new to Kaggle and this is my first Kernel ! Hope you like It ~ ',\n",
    "    \"spaCy excels at large-scale information extraction tasks. It's written from the ground up in carefully memory-managed Cython. Independent research has confirmed that spaCy is the fastest in the world. If your application needs to process entire web dumps, spaCy is the library you want to be using.\",\n",
    "    'Google began in January 1996 as a research project by Larry Page and Sergey Brin when they were both PhD students at Stanford University in Stanford, California.[6]',\n",
    "    \n",
    "    # some weird testcases\n",
    "    \n",
    "    '3-year-old child can also be a good-programmer',\n",
    "    'what \"Пока\" means ?',\n",
    "    'what Пока means ?',\n",
    "    'IS Taiwan a Good place to Live ? ',\n",
    "    'How to being hired by google?',\n",
    "    'I ran 3mm\\/sec',\n",
    "    \n",
    "    # some testcases random pick from training set\n",
    "    \n",
    "    # Mark is detected as not a proper noun ... Poor Mark\n",
    "    'Is trump a billionaire? How do we know for sure? Why do most people (Mark Cuban excepted) just take him at his word on this?',\n",
    "    'Is it better to have a career in C, C++ or in Node.js?',\n",
    "    'Which is better intel i5 (6th gen) or i7 (5th gen)?',\n",
    "    \"Which is correct: '2 dozen of eggs cost 30 rupees' or '2 dozen of eggs costs 30 rupees'?\",\n",
    "]\n",
    "\n",
    "for testcase in testcases:\n",
    "    print(testcase)\n",
    "    print('=> ' + ' '.join(process_new_string(testcase)))\n",
    "    print('\\n========================================================================================================\\n')\n",
    "    "
   ]
  },
  {
   "cell_type": "markdown",
   "metadata": {
    "_cell_guid": "1ece3531-e9ec-3793-0839-781f534210f9"
   },
   "source": [
    "### Outputs\n",
    "\n",
    "---\n",
    "\n",
    "    Hi! I'm Hubert, I am new to Kaggle and this is my first Kernel ! Hope you like It ~ \n",
    "    => hi i be hubert i be new to something and this be my number kernel hope you like it\n",
    "\n",
    "---\n",
    "\n",
    "    spaCy excels at large-scale information extraction tasks. It's written from the ground up in carefully memory-managed Cython. Independent research has confirmed that spaCy is the fastest in the world. If your application needs to process entire web dumps, spaCy is the library you want to be using.\n",
    "    => spacy excel at large scale information extraction task it write from the ground up in carefully memory manage cython independent research have confirm that spacy be the fast in the world if your application need to process entire web dump spacy be the library you want to be use\n",
    "\n",
    "---\n",
    "\n",
    "    Google began in January 1996 as a research project by Larry Page and Sergey Brin when they were both PhD students at Stanford University in Stanford, California.[6]\n",
    "    => organization begin in date as a research project by person and person when they be both artwork student at organization in organization country quoted_item\n",
    "\n",
    "---\n",
    "\n",
    "    3-year-old child can also be a good-programmer\n",
    "    => number child can also be a good programmer\n",
    "\n",
    "---\n",
    "\n",
    "    what \"Пока\" means ?\n",
    "    => what non_ascii_word mean\n",
    "\n",
    "---\n",
    "\n",
    "    what Пока means ?\n",
    "    => what non_ascii_word mean\n",
    "\n",
    "---\n",
    "\n",
    "    IS Taiwan a Good place to Live ? \n",
    "    => be country a good place to live\n",
    "\n",
    "---\n",
    "\n",
    "    How to being hired by google?\n",
    "    => how to be hire by organization\n",
    "\n",
    "---\n",
    "\n",
    "    I ran 3mm\\/sec\n",
    "    => i run number sec\n",
    "\n",
    "---\n",
    "\n",
    "    Is trump a billionaire? How do we know for sure? Why do most people (Mark Cuban excepted) just take him at his word on this?\n",
    "    => be person a billionaire how do we know for sure why do most people mark person except just take him at his word on this\n",
    "\n",
    "---\n",
    "\n",
    "    Is it better to have a career in C, C++ or in Node.js?\n",
    "    => be it good to have a career in c c or in person js\n",
    "\n",
    "---\n",
    "\n",
    "    Which is better intel i5 (6th gen) or i7 (5th gen)?\n",
    "    => which be good organization i5 number gen or i7 number gen\n",
    "\n",
    "---\n",
    "\n",
    "    Which is correct: '2 dozen of eggs cost 30 rupees' or '2 dozen of eggs costs 30 rupees'?\n",
    "    => which be correct number of egg cost number or number of egg cost number\n",
    "\n",
    "---"
   ]
  },
  {
   "cell_type": "code",
   "execution_count": 23,
   "metadata": {
    "_cell_guid": "fce5ce9d-2e94-bb99-e7b4-d793bb4d77fd",
    "collapsed": true
   },
   "outputs": [],
   "source": []
  },
  {
   "cell_type": "markdown",
   "metadata": {
    "_cell_guid": "5398e330-8d54-e716-68b3-ede79c5167a3"
   },
   "source": [
    "### Hope you like my approach, if so, please give me an upvote :) \n",
    "\n",
    "My approach consists of some heuristic and may have risk on 'over cleaning'.\n",
    "\n",
    "If you have any great idea to improve it or find some of my moves is problematic. Please leave a comment, I appreciate that !"
   ]
  },
  {
   "cell_type": "code",
   "execution_count": 23,
   "metadata": {
    "_cell_guid": "c395d8f8-8e2f-94c7-bce6-6c312850d63b",
    "collapsed": true
   },
   "outputs": [],
   "source": []
  }
 ],
 "metadata": {
  "_change_revision": 1,
  "_is_fork": false,
  "anaconda-cloud": {},
  "kernelspec": {
   "display_name": "Python [default]",
   "language": "python",
   "name": "python3"
  },
  "language_info": {
   "codemirror_mode": {
    "name": "ipython",
    "version": 3
   },
   "file_extension": ".py",
   "mimetype": "text/x-python",
   "name": "python",
   "nbconvert_exporter": "python",
   "pygments_lexer": "ipython3",
   "version": "3.5.2"
  }
 },
 "nbformat": 4,
 "nbformat_minor": 0
}
