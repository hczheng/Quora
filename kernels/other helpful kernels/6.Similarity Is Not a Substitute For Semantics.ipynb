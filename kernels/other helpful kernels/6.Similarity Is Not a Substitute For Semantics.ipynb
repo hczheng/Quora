{
 "cells": [
  {
   "cell_type": "markdown",
   "metadata": {},
   "source": [
    "Hey dear Kagglers, I'm excited to share with you my very first notebook and I'll be very happy to get some advice on the many things I can improve in my investigation into the Quora dataset. Here goes...\n",
    "\n",
    "I decided to take a hybrid approach (including naive as well as tf-idf features).\n",
    "\n",
    "We start by first deriving the naive features:\n",
    "\n",
    " - Similarity: basic similarity ratio between the two question strings\n",
    " - Pruned similarity: similarity of the two question strings excluding the stopwords"
   ]
  },
  {
   "cell_type": "code",
   "execution_count": null,
   "metadata": {
    "collapsed": true
   },
   "outputs": [],
   "source": [
    "import pandas as pd\n",
    "pd.set_option('max_colwidth', 250) #so that the full column of tagged sentences can be displayed\n",
    "import numpy as np\n",
    "import nltk\n",
    "from nltk.corpus import stopwords\n",
    "from difflib import SequenceMatcher\n",
    "from sklearn.feature_extraction.text import TfidfTransformer\n",
    "from sklearn.feature_extraction.text import CountVectorizer\n",
    "from sklearn.preprocessing import StandardScaler\n",
    "from sklearn.ensemble import GradientBoostingClassifier\n",
    "from sklearn.model_selection import train_test_split\n",
    "from sklearn.metrics import log_loss\n",
    "\n",
    "import warnings\n",
    "warnings.filterwarnings(\"ignore\", category = DeprecationWarning) #to stop the annoying deprecation warnings from sklearn\n",
    "\n",
    "#Some simple functions\n",
    "def remove_stopwords(tokenized_sent):\n",
    "    unique_stopwords = set(stopwords.words('english'))\n",
    "    return [word for word in tokenized_sent if word.lower() not in unique_stopwords]\n",
    "\n",
    "def concatenate_tokens(token_list):\n",
    "    return str(' '.join(token_list))\n",
    "\n",
    "def find_similarity(sent1, sent2):\n",
    "    return SequenceMatcher(lambda x: x in (' ', '?', '.', '\"\"', '!'), sent1, sent2).ratio()\n",
    "\n",
    "def return_common_tokens(sent1, sent2):\n",
    "    return \" \".join([word.lower() for word in sent1 if word in sent2])\n",
    "\n",
    "def convert_tokens_lower(tokens):\n",
    "    return [token.lower() for token in tokens]\n",
    "\n",
    "#Reading the train file\n",
    "train_sample = pd.read_csv('../input/train.csv', encoding = 'utf-8', index_col = 0, header = 0, iterator = True).get_chunk(100000)\n",
    "\n",
    "transformed_sentences_train = pd.DataFrame(index = train_sample.index)\n",
    "naive_similarity = pd.DataFrame()\n",
    "temp_features = pd.DataFrame()\n",
    "dictionary = pd.DataFrame()\n",
    "\n",
    "#Deriving the naive features\n",
    "for i in (1, 2):\n",
    "        transformed_sentences_train['question%s_tokens' % i] = train_sample['question%s' % i].apply(nltk.word_tokenize)\n",
    "        transformed_sentences_train['question%s_lowercase_tokens' % i] = transformed_sentences_train['question%s_tokens' % i].apply(convert_tokens_lower)\n",
    "        transformed_sentences_train['question%s_lowercase' % i] = transformed_sentences_train['question%s_lowercase_tokens' % i].apply(concatenate_tokens)\n",
    "        transformed_sentences_train['question%s_words' % i] = transformed_sentences_train['question%s_tokens' % i].apply(remove_stopwords)\n",
    "        transformed_sentences_train['question%s_pruned' % i] = transformed_sentences_train['question%s_words' % i].apply(concatenate_tokens)\n",
    "naive_similarity['similarity'] = np.vectorize(find_similarity)(train_sample['question1'], train_sample['question2'])\n",
    "naive_similarity['pruned_similarity'] = np.vectorize(find_similarity)(transformed_sentences_train['question1_pruned'], transformed_sentences_train['question2_pruned'])\n",
    "temp_features['common_tokens'] = np.vectorize(return_common_tokens)(transformed_sentences_train['question1_tokens'], transformed_sentences_train['question2_tokens'])\n",
    "\n",
    "print (naive_similarity[:20])"
   ]
  },
  {
   "cell_type": "markdown",
   "metadata": {},
   "source": [
    "This is supposed to catch the most elementary non-duplicates (where the questions are obviously different), e.g. question id 3:\n",
    "\n",
    " - Why am I mentally very lonely? How can I solve it?\n",
    " - Find the remainder when [math]23^{24}[/math] is divided by 24,23?\n",
    "\n",
    "As we can see from the output, the similarity there is 14% and the pruned similarity is 11%\n",
    "\n",
    "Next, we can enrich the feature set by adding the term frequency inverse dictionary frequency measure (tf-idf). The term frequency is the count of a term in a specific question, the inverse document frequency is the log of the total number of questions divided by the number of questions containing the term. Here is the derivation using scikit-learn's library:"
   ]
  },
  {
   "cell_type": "code",
   "execution_count": null,
   "metadata": {
    "collapsed": true
   },
   "outputs": [],
   "source": [
    "dictionary = pd.DataFrame()\n",
    "\n",
    "#Deriving the TF-IDF\n",
    "dictionary['concatenated_questions'] = transformed_sentences_train['question1_lowercase'] + transformed_sentences_train['question2_lowercase']\n",
    "\n",
    "vectorizer = CountVectorizer()\n",
    "terms_matrix = vectorizer.fit_transform(dictionary['concatenated_questions'])\n",
    "terms_matrix_1 = vectorizer.transform(transformed_sentences_train['question1_lowercase'])\n",
    "terms_matrix_2 = vectorizer.transform(transformed_sentences_train['question2_lowercase'])\n",
    "common_terms_matrx = vectorizer.transform(temp_features['common_tokens'])\n",
    "\n",
    "transformer = TfidfTransformer(smooth_idf = False)\n",
    "weights_matrix = transformer.fit_transform(terms_matrix)\n",
    "weights_matrix_1 = transformer.transform(terms_matrix_1)\n",
    "weights_matrix_2 = transformer.transform(terms_matrix_2)\n",
    "common_weights_matrix = transformer.transform(common_terms_matrx)\n",
    "\n",
    "#Converting the sparse matrices into dataframes\n",
    "transformed_matrix_1 = weights_matrix_1.tocoo(copy = False)\n",
    "transformed_matrix_2 = weights_matrix_2.tocoo(copy = False)\n",
    "transformed_common_weights_matrix = common_weights_matrix.tocoo(copy = False)\n",
    "\n",
    "weights_dataframe_1 = pd.DataFrame({'index': transformed_matrix_1.row, 'term_id': transformed_matrix_1.col, 'weight_q1': transformed_matrix_1.data})[['index', 'term_id', 'weight_q1']].sort_values(['index', 'term_id']).reset_index(drop = True)\n",
    "weights_dataframe_2 = pd.DataFrame({'index': transformed_matrix_2.row, 'term_id': transformed_matrix_2.col, 'weight_q2': transformed_matrix_2.data})[['index', 'term_id', 'weight_q2']].sort_values(['index', 'term_id']).reset_index(drop = True)\n",
    "weights_dataframe_3 = pd.DataFrame({'index': transformed_common_weights_matrix.row, 'term_id': transformed_common_weights_matrix.col, 'common_weight': transformed_common_weights_matrix.data})[['index', 'term_id', 'common_weight']].sort_values(['index', 'term_id']).reset_index(drop = True)\n",
    "\n",
    "#Summing the weights of each token in each question to get the summed weight of the question\n",
    "sum_weights_1, sum_weights_2, sum_weights_3 = weights_dataframe_1.groupby('index').sum(), weights_dataframe_2.groupby('index').sum(), weights_dataframe_3.groupby('index').sum()\n",
    "\n",
    "weights = sum_weights_1.join(sum_weights_2, how = 'outer', lsuffix = '_q1', rsuffix = '_q2').join(sum_weights_3, how = 'outer', lsuffix = '_cw', rsuffix = '_cw')\n",
    "weights = weights.fillna(0)\n",
    "del weights['term_id_q1'], weights['term_id_q2'], weights['term_id']\n",
    "\n",
    "print (weights[:20])"
   ]
  },
  {
   "cell_type": "markdown",
   "metadata": {},
   "source": [
    "This feature is designed to account for questions that are quite similar as strings but are different in meaning. The difference usually comes from a small amount of very significant terms. Example pair id 0:\n",
    "\n",
    " - What is the step by step guide to invest in share market in india?\n",
    " - What is the step by step guide to invest in share market?\n",
    "\n",
    "As is obvious from the data, these two questions have a 91% similarity and 90% pruned similarity. However, the one word that significantly differentiates them is 'india.' The way tf-idf is supposed to address this issue is by applying a larger weight to the 'india' term than to the others. This changes significantly the weight sum of the first and second questions (as is evident from the data above).\n",
    "\n",
    "In addition, we also derive the 'common weight' of the two questions, i.e. the sum of the weight of all the tokens that the two questions share. As we can see this weight is very similar to the weight of the second question which also agrees with our observations.\n",
    "\n",
    "Next, we'll join the features we derived, shuffle and scale them:"
   ]
  },
  {
   "cell_type": "code",
   "execution_count": null,
   "metadata": {
    "collapsed": true
   },
   "outputs": [],
   "source": [
    "X = naive_similarity.join(weights, how = 'inner')\n",
    "\n",
    "#Creating a random train-test split\n",
    "y = train_sample['is_duplicate']\n",
    "X_train, X_test, y_train, y_test = train_test_split(X, y, test_size = 0.5, random_state = 42)\n",
    "\n",
    "#Scaling the features\n",
    "sc = StandardScaler()\n",
    "for frame in (X_train, X_test):\n",
    "    sc.fit(frame)\n",
    "    frame = pd.DataFrame(sc.transform(frame), index = frame.index, columns = frame.columns)\n",
    "\n",
    "print (X_train[:20])"
   ]
  },
  {
   "cell_type": "markdown",
   "metadata": {},
   "source": [
    "We train our algorithm (gradient boosting classifier) and print the logarithmic loss:"
   ]
  },
  {
   "cell_type": "code",
   "execution_count": null,
   "metadata": {
    "collapsed": true
   },
   "outputs": [],
   "source": [
    "#Training the algorithm and making a prediction\n",
    "gbc = GradientBoostingClassifier(n_estimators = 8000, learning_rate = 0.3, max_depth = 3)\n",
    "gbc.fit(X_train, y_train.values.ravel())\n",
    "prediction = pd.DataFrame(gbc.predict(X_test), columns = ['is_duplicate'], index = X_test.index)\n",
    "\n",
    "#Inspecting our mistakes\n",
    "prediction_actual = prediction.join(y_test, how = 'inner', lsuffix = '_predicted', rsuffix = '_actual').join(train_sample[['question1', 'question2']], how = 'inner').join(X_test, how = 'inner')\n",
    "\n",
    "print ('The log loss is %s' % log_loss(y_test, prediction))"
   ]
  },
  {
   "cell_type": "markdown",
   "metadata": {},
   "source": [
    "As we can see, the log loss is abysmal for the 30 question pairs in the sample, but it actually goes down substantially if the algorithm is trained over most of the training data.\n",
    "\n",
    "Finally, we evaluate our mistakes:"
   ]
  },
  {
   "cell_type": "code",
   "execution_count": null,
   "metadata": {
    "collapsed": true
   },
   "outputs": [],
   "source": [
    "print (prediction_actual[prediction_actual['is_duplicate_predicted'] != prediction_actual['is_duplicate_actual']][:10])"
   ]
  },
  {
   "cell_type": "markdown",
   "metadata": {},
   "source": [
    "As we can see, this approach needs to be supplemented by other metrics. The types of errors we are likely to encounter are:\n",
    "\n",
    " - Cases where the weights of two contextually different expressions are similar (e.g. pair 28). In this case 'ask for' and 'make' may have very similar weights due to similar counts of the term throughout the corpus, but have a fundamentally different meaning.\n",
    " - Algorithmic errors - where the features indicate difference to an observer but not to the algorithm (e.g. pair 24 where the similarity is 48% and the weight ratio is 75%). This could potentially be improved by tweaking the training parameters, adding more training data and executing more epochs.\n",
    "\n",
    "In addition, our data derivation has several shortcomings. Namely: we have done no canonization of the terms in the corpus. This means that the following terms will be considered different (and have different counts and weights according to the tf-idf):\n",
    "\n",
    " - 2016-12-01 and 1st of December 2016\n",
    " - Youtube and YouTube\n",
    " - india and India\n",
    "\n",
    "This problem can be solved through a similarity matching and some regular expressions.\n",
    "\n",
    "Another issue we haven't addressed is the semantic closeness of terms in the question pairs for cases like:\n",
    "\n",
    " - Holland and The Netherlands\n",
    " - Holland and France (both may have equal frequency in the corpus and equal weights but have different meaning)\n",
    "\n",
    "This problem can be resolved through vectorization of the terms and taking cosine of their values.\n",
    "\n",
    "Unfortunately those tasks are beyond the allocated time or hardware of my current participation (30 hours and Acer Revo One, respectively), but had time been abundantly available, I would work on the following additional features:\n",
    "\n",
    " - Regular expression parser to canonize the training and test corpus\n",
    " - Cosine of the terms of each question pair\n",
    " - N-gram derivation and comparison\n",
    "\n",
    "I'm eager to hear your constructive criticism and suggestions for improvement!"
   ]
  }
 ],
 "metadata": {
  "kernelspec": {
   "display_name": "Python [conda root]",
   "language": "python",
   "name": "conda-root-py"
  },
  "language_info": {
   "codemirror_mode": {
    "name": "ipython",
    "version": 3
   },
   "file_extension": ".py",
   "mimetype": "text/x-python",
   "name": "python",
   "nbconvert_exporter": "python",
   "pygments_lexer": "ipython3",
   "version": "3.5.2"
  }
 },
 "nbformat": 4,
 "nbformat_minor": 0
}
