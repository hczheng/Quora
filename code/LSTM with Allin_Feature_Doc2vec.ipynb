{
 "cells": [
  {
   "cell_type": "code",
   "execution_count": 1,
   "metadata": {
    "collapsed": false
   },
   "outputs": [
    {
     "name": "stderr",
     "output_type": "stream",
     "text": [
      "Using TensorFlow backend.\n"
     ]
    }
   ],
   "source": [
    "'''\n",
    "Example of an LSTM model with GloVe embeddings along with magic features\n",
    "\n",
    "Tested under Keras 2.0 with Tensorflow 1.0 backend\n",
    "\n",
    "Single model may achieve LB scores at around 0.18+, average ensembles can get 0.17+\n",
    "'''\n",
    "\n",
    "########################################\n",
    "## import packages\n",
    "########################################\n",
    "import os\n",
    "import re\n",
    "import csv\n",
    "import codecs\n",
    "import numpy as np\n",
    "import pandas as pd\n",
    "\n",
    "from string import punctuation\n",
    "from collections import defaultdict\n",
    "\n",
    "from nltk.corpus import stopwords\n",
    "from nltk.stem import SnowballStemmer\n",
    "\n",
    "from keras.preprocessing.text import Tokenizer\n",
    "from keras.preprocessing.sequence import pad_sequences\n",
    "from keras.layers import Dense, Input, LSTM, Embedding, Dropout, Activation,Reshape\n",
    "from keras.layers.merge import concatenate\n",
    "from keras.models import Model\n",
    "from keras.layers.normalization import BatchNormalization\n",
    "from keras.callbacks import EarlyStopping, ModelCheckpoint\n",
    "\n",
    "from sklearn.preprocessing import StandardScaler\n",
    "\n",
    "#import sys\n",
    "#reload(sys)\n",
    "#sys.setdefaultencoding('utf-8')"
   ]
  },
  {
   "cell_type": "code",
   "execution_count": 2,
   "metadata": {
    "collapsed": false
   },
   "outputs": [
    {
     "name": "stdout",
     "output_type": "stream",
     "text": [
      "lstm_254_131_0.18_0.34\n"
     ]
    }
   ],
   "source": [
    "########################################\n",
    "## set directories and parameters\n",
    "########################################\n",
    "BASE_DIR = '../data/'\n",
    "#EMBEDDING_FILE = BASE_DIR + 'glove.840B.300d.txt'\n",
    "EMBEDDING_FILE = BASE_DIR + 'glove.6B.300d.txt'\n",
    "TRAIN_DATA_FILE = BASE_DIR + 'train.csv'\n",
    "TEST_DATA_FILE = BASE_DIR + 'test.csv'\n",
    "MAX_SEQUENCE_LENGTH = 30\n",
    "MAX_NB_WORDS = 200000\n",
    "EMBEDDING_DIM = 300\n",
    "VALIDATION_SPLIT = 0.1\n",
    "\n",
    "num_lstm = np.random.randint(175, 275)\n",
    "num_dense = np.random.randint(100, 150)\n",
    "rate_drop_lstm = 0.15 + np.random.rand() * 0.25\n",
    "rate_drop_dense = 0.15 + np.random.rand() * 0.25\n",
    "\n",
    "act = 'relu'\n",
    "re_weight = True # whether to re-weight classes to fit the 17.5% share in test set\n",
    "\n",
    "STAMP = 'lstm_%d_%d_%.2f_%.2f'%(num_lstm, num_dense, rate_drop_lstm, \\\n",
    "        rate_drop_dense)\n",
    "print(STAMP)"
   ]
  },
  {
   "cell_type": "code",
   "execution_count": 3,
   "metadata": {
    "collapsed": false
   },
   "outputs": [
    {
     "name": "stdout",
     "output_type": "stream",
     "text": [
      "Indexing word vectors\n",
      "Found 399999 word vectors of glove.\n"
     ]
    }
   ],
   "source": [
    "########################################\n",
    "## index word vectors\n",
    "########################################\n",
    "print('Indexing word vectors')\n",
    "\n",
    "embeddings_index = {}\n",
    "f = open(EMBEDDING_FILE,encoding='utf-8')\n",
    "count = 0\n",
    "for line in f:\n",
    "    if count == 0:\n",
    "        count = 1\n",
    "        continue\n",
    "    values = line.split()\n",
    "    word = values[0]\n",
    "    coefs = np.asarray(values[1:], dtype='float32')\n",
    "    embeddings_index[word] = coefs\n",
    "f.close()\n",
    "\n",
    "print('Found %d word vectors of glove.' % len(embeddings_index))"
   ]
  },
  {
   "cell_type": "code",
   "execution_count": 4,
   "metadata": {
    "collapsed": false,
    "scrolled": true
   },
   "outputs": [
    {
     "name": "stdout",
     "output_type": "stream",
     "text": [
      "Processing text dataset\n",
      "Found 404290 texts in train.csv\n",
      "Found 2345796 texts in test.csv\n",
      "Found 120499 unique tokens\n",
      "Shape of data tensor: (404290, 30)\n",
      "Shape of label tensor: (404290,)\n",
      "ok\n"
     ]
    }
   ],
   "source": [
    "## process texts in datasets\n",
    "########################################\n",
    "print('Processing text dataset')\n",
    "\n",
    "# The function \"text_to_wordlist\" is from\n",
    "# https://www.kaggle.com/currie32/quora-question-pairs/the-importance-of-cleaning-text\n",
    "def text_to_wordlist(text, remove_stopwords=False, stem_words=False):\n",
    "    # Clean the text, with the option to remove stopwords and to stem words.\n",
    "    \n",
    "    # Convert words to lower case and split them\n",
    "    text = text.lower().split()\n",
    "\n",
    "    # Optionally, remove stop words\n",
    "    if remove_stopwords:\n",
    "        stops = set(stopwords.words(\"english\"))\n",
    "        text = [w for w in text if not w in stops]\n",
    "    \n",
    "    text = \" \".join(text)\n",
    "\n",
    "    # Clean the text\n",
    "    text = re.sub(r\"[^A-Za-z0-9^,!.\\/'+-=]\", \" \", text)\n",
    "    text = re.sub(r\"what's\", \"what is \", text)\n",
    "    text = re.sub(r\"\\'s\", \" \", text)\n",
    "    text = re.sub(r\"\\'ve\", \" have \", text)\n",
    "    text = re.sub(r\"can't\", \"cannot \", text)\n",
    "    text = re.sub(r\"n't\", \" not \", text)\n",
    "    text = re.sub(r\"i'm\", \"i am \", text)\n",
    "    text = re.sub(r\"\\'re\", \" are \", text)\n",
    "    text = re.sub(r\"\\'d\", \" would \", text)\n",
    "    text = re.sub(r\"\\'ll\", \" will \", text)\n",
    "    text = re.sub(r\",\", \" \", text)\n",
    "    text = re.sub(r\"\\.\", \" \", text)\n",
    "    text = re.sub(r\"!\", \" ! \", text)\n",
    "    text = re.sub(r\"\\/\", \" \", text)\n",
    "    text = re.sub(r\"\\^\", \" ^ \", text)\n",
    "    text = re.sub(r\"\\+\", \" + \", text)\n",
    "    text = re.sub(r\"\\-\", \" - \", text)\n",
    "    text = re.sub(r\"\\=\", \" = \", text)\n",
    "    text = re.sub(r\"'\", \" \", text)\n",
    "    text = re.sub(r\"(\\d+)(k)\", r\"\\g<1>000\", text)\n",
    "    text = re.sub(r\":\", \" : \", text)\n",
    "    text = re.sub(r\" e g \", \" eg \", text)\n",
    "    text = re.sub(r\" b g \", \" bg \", text)\n",
    "    text = re.sub(r\" u s \", \" american \", text)\n",
    "    text = re.sub(r\"\\0s\", \"0\", text)\n",
    "    text = re.sub(r\" 9 11 \", \"911\", text)\n",
    "    text = re.sub(r\"e - mail\", \"email\", text)\n",
    "    text = re.sub(r\"j k\", \"jk\", text)\n",
    "    text = re.sub(r\"\\s{2,}\", \" \", text)\n",
    "    \n",
    "    # Optionally, shorten words to their stems\n",
    "    if stem_words:\n",
    "        text = text.split()\n",
    "        stemmer = SnowballStemmer('english')\n",
    "        stemmed_words = [stemmer.stem(word) for word in text]\n",
    "        text = \" \".join(stemmed_words)\n",
    "    \n",
    "    # Return a list of words\n",
    "    return(text)\n",
    "\n",
    "texts_1 = [] \n",
    "texts_2 = []\n",
    "labels = []\n",
    "with codecs.open(TRAIN_DATA_FILE, encoding='utf-8') as f:\n",
    "    reader = csv.reader(f, delimiter=',')\n",
    "    header = next(reader)\n",
    "    for values in reader:\n",
    "        texts_1.append(text_to_wordlist(values[3]))\n",
    "        texts_2.append(text_to_wordlist(values[4]))\n",
    "        labels.append(int(values[5]))\n",
    "print('Found %s texts in train.csv' % len(texts_1))\n",
    "\n",
    "test_texts_1 = []\n",
    "test_texts_2 = []\n",
    "test_ids = []\n",
    "with codecs.open(TEST_DATA_FILE, encoding='utf-8') as f:\n",
    "    reader = csv.reader(f, delimiter=',')\n",
    "    header = next(reader)\n",
    "    for values in reader:\n",
    "        test_texts_1.append(text_to_wordlist(values[1]))\n",
    "        test_texts_2.append(text_to_wordlist(values[2]))\n",
    "        test_ids.append(values[0])\n",
    "print('Found %s texts in test.csv' % len(test_texts_1))\n",
    "\n",
    "tokenizer = Tokenizer(num_words=MAX_NB_WORDS)\n",
    "tokenizer.fit_on_texts(texts_1 + texts_2 + test_texts_1 + test_texts_2)\n",
    "\n",
    "sequences_1 = tokenizer.texts_to_sequences(texts_1)\n",
    "sequences_2 = tokenizer.texts_to_sequences(texts_2)\n",
    "test_sequences_1 = tokenizer.texts_to_sequences(test_texts_1)\n",
    "test_sequences_2 = tokenizer.texts_to_sequences(test_texts_2)\n",
    "\n",
    "word_index = tokenizer.word_index\n",
    "print('Found %s unique tokens' % len(word_index))\n",
    "\n",
    "data_1 = pad_sequences(sequences_1, maxlen=MAX_SEQUENCE_LENGTH)\n",
    "data_2 = pad_sequences(sequences_2, maxlen=MAX_SEQUENCE_LENGTH)\n",
    "labels = np.array(labels)\n",
    "print('Shape of data tensor:', data_1.shape)\n",
    "print('Shape of label tensor:', labels.shape)\n",
    "\n",
    "test_data_1 = pad_sequences(test_sequences_1, maxlen=MAX_SEQUENCE_LENGTH)\n",
    "test_data_2 = pad_sequences(test_sequences_2, maxlen=MAX_SEQUENCE_LENGTH)\n",
    "test_ids = np.array(test_ids)\n",
    "########################################\n",
    "print(\"ok\")"
   ]
  },
  {
   "cell_type": "code",
   "execution_count": null,
   "metadata": {
    "collapsed": true
   },
   "outputs": [],
   "source": [
    "np.save(\"../train/word_index.npy\",word_index)\n",
    "np.save(\"../train/data_1.npy\",data_1)\n",
    "np.save(\"../train/data_2.npy\",data_2)\n",
    "np.save(\"../train/labels.npy\",labels)\n",
    "np.save(\"../test/test_data_1.npy\",test_data_1)\n",
    "np.save(\"../test/test_data_2.npy\",test_data_2)\n",
    "np.save(\"../test/test_ids.npy\",test_ids)"
   ]
  },
  {
   "cell_type": "code",
   "execution_count": 6,
   "metadata": {
    "collapsed": false
   },
   "outputs": [
    {
     "name": "stdout",
     "output_type": "stream",
     "text": [
      "Shape of data tensor: (404290, 30)\n",
      "Shape of label tensor: (404290,)\n",
      "Shape of data tensor: (2345796, 30)\n",
      "Shape of label tensor: (2345796, 30)\n"
     ]
    }
   ],
   "source": [
    "word_index=np.load(\"../train/word_index.npy\")\n",
    "\n",
    "data_1=np.load(\"../train/data_1.npy\")\n",
    "data_2=np.load(\"../train/data_1.npy\")\n",
    "\n",
    "labels = np.load(\"../train/labels.npy\")\n",
    "\n",
    "print('Shape of data tensor:', data_1.shape)\n",
    "print('Shape of label tensor:', labels.shape)\n",
    "\n",
    "test_data_1 = np.load(\"../test/test_data_1.npy\")\n",
    "test_data_2 = np.load(\"../test/test_data_2.npy\")\n",
    "test_ids = np.load(\"../test/test_ids.npy\")\n",
    "\n",
    "print('Shape of data tensor:', test_data_1.shape)\n",
    "print('Shape of label tensor:', test_data_2.shape)"
   ]
  },
  {
   "cell_type": "markdown",
   "metadata": {},
   "source": [
    "# Doc2vec"
   ]
  },
  {
   "cell_type": "code",
   "execution_count": 5,
   "metadata": {
    "collapsed": false
   },
   "outputs": [
    {
     "name": "stderr",
     "output_type": "stream",
     "text": [
      "E:\\Anaconda2\\envs\\Anaconda3\\lib\\site-packages\\gensim\\utils.py:855: UserWarning: detected Windows; aliasing chunkize to chunkize_serial\n",
      "  warnings.warn(\"detected Windows; aliasing chunkize to chunkize_serial\")\n"
     ]
    }
   ],
   "source": [
    "#Import Initial Packages\n",
    "import numpy as np # linear algebra\n",
    "import pandas as pd # data processing, CSV file I/O (e.g. pd.read_csv)\n",
    "from subprocess import check_output\n",
    "import gensim\n",
    "from nltk.tokenize import RegexpTokenizer\n",
    "from nltk.corpus import stopwords\n",
    "from textblob import TextBlob\n",
    "from nltk.stem import WordNetLemmatizer\n",
    "import re \n",
    "from collections import namedtuple\n",
    "import multiprocessing\n",
    "import datetime\n",
    "import os\n",
    "\n",
    "tokenizer = RegexpTokenizer(r'\\w+')\n",
    "stopwords = stopwords.words(\"english\")\n",
    "lemmatizer = WordNetLemmatizer()"
   ]
  },
  {
   "cell_type": "code",
   "execution_count": 6,
   "metadata": {
    "collapsed": false
   },
   "outputs": [],
   "source": [
    "model = gensim.models.doc2vec.Doc2Vec.load(\"../kernels/20170531_A_doc_2_vec_model1\")"
   ]
  },
  {
   "cell_type": "code",
   "execution_count": 7,
   "metadata": {
    "collapsed": false
   },
   "outputs": [
    {
     "name": "stdout",
     "output_type": "stream",
     "text": [
      "(404290, 100)\n",
      "(404290, 100)\n"
     ]
    }
   ],
   "source": [
    "doc_train1=np.empty((404290,100))\n",
    "for i in range(404290):\n",
    "    doc_train1[i]=(model.docvecs[i])\n",
    "print(doc_train1.shape)\n",
    "\n",
    "doc_train2=np.empty((404290,100))\n",
    "for i in range(404290,808580):\n",
    "    doc_train2[i-404290]=(model.docvecs[i])\n",
    "print(doc_train2.shape)"
   ]
  },
  {
   "cell_type": "markdown",
   "metadata": {},
   "source": [
    "df_test_set1 : (2345796, 1)\n",
    "df_test_set2 : (2345796, 1)\n",
    "df_test_set : (4691592, 1)"
   ]
  },
  {
   "cell_type": "code",
   "execution_count": 8,
   "metadata": {
    "collapsed": false
   },
   "outputs": [
    {
     "name": "stdout",
     "output_type": "stream",
     "text": [
      "(2345796, 100)\n",
      "(2345796, 100)\n"
     ]
    }
   ],
   "source": [
    "doc_test1=np.empty((2345796,100))\n",
    "for i in range(808580,3154376):\n",
    "    doc_test1[i-808580]=(model.docvecs[i])\n",
    "print(doc_test1.shape)\n",
    "\n",
    "doc_test2=np.empty((2345796,100))\n",
    "for i in range(3154376,5500172):\n",
    "    doc_test2[i-3154376]=(model.docvecs[i])\n",
    "print(doc_test2.shape)"
   ]
  },
  {
   "cell_type": "code",
   "execution_count": 78,
   "metadata": {
    "collapsed": true
   },
   "outputs": [],
   "source": [
    "np.save(\"../train/doc_train1.npy\",doc_train1)\n",
    "np.save(\"../train/doc_train2.npy\",doc_train2)\n",
    "\n",
    "np.save(\"../test/doc_test1.npy\",doc_test1)\n",
    "np.save(\"../test/doc_test2.npy\",doc_test2)"
   ]
  },
  {
   "cell_type": "code",
   "execution_count": null,
   "metadata": {
    "collapsed": true
   },
   "outputs": [],
   "source": [
    "doc_train1=np.load(\"../train/doc_train1.npy\")\n",
    "doc_train2=np.load(\"../train/doc_train2.npy\")\n",
    "\n",
    "doc_test1=np.load(\"../test/doc_test1.npy\")\n",
    "doc_test2=np.load(\"../test/doc_test2.npy\")"
   ]
  },
  {
   "cell_type": "code",
   "execution_count": 18,
   "metadata": {
    "collapsed": false
   },
   "outputs": [
    {
     "data": {
      "text/plain": [
       "97"
      ]
     },
     "execution_count": 18,
     "metadata": {},
     "output_type": "execute_result"
    }
   ],
   "source": [
    "import gc\n",
    "gc.collect()"
   ]
  },
  {
   "cell_type": "markdown",
   "metadata": {},
   "source": [
    "# Feature part1:train_all"
   ]
  },
  {
   "cell_type": "code",
   "execution_count": 9,
   "metadata": {
    "collapsed": false
   },
   "outputs": [],
   "source": [
    "train_all = pd.read_csv('../train/train_all.csv')\n",
    "test_all = pd.read_csv('../test/test_all.csv')\n",
    "\n",
    "train_all = train_all.drop(['id','is_duplicate'],axis=1).fillna(0)\n",
    "test_all = test_all.drop('test_id',axis=1).fillna(0)"
   ]
  },
  {
   "cell_type": "code",
   "execution_count": 10,
   "metadata": {
    "collapsed": false,
    "scrolled": true
   },
   "outputs": [
    {
     "name": "stdout",
     "output_type": "stream",
     "text": [
      "(404290, 11)\n",
      "(2345796, 11)\n"
     ]
    }
   ],
   "source": [
    "print(train_all.shape)\n",
    "print(test_all.shape)"
   ]
  },
  {
   "cell_type": "code",
   "execution_count": 11,
   "metadata": {
    "collapsed": false
   },
   "outputs": [],
   "source": [
    "ss = StandardScaler()\n",
    "ss.fit(np.vstack((train_all, test_all)))\n",
    "train_all = ss.transform(train_all)\n",
    "test_all = ss.transform(test_all)"
   ]
  },
  {
   "cell_type": "markdown",
   "metadata": {},
   "source": [
    "# Feature part2:train_feature"
   ]
  },
  {
   "cell_type": "code",
   "execution_count": 14,
   "metadata": {
    "collapsed": false
   },
   "outputs": [
    {
     "name": "stdout",
     "output_type": "stream",
     "text": [
      "(404290, 26)\n",
      "(2345796, 26)\n"
     ]
    }
   ],
   "source": [
    "train_features = pd.read_csv('../train/train_features.csv', encoding=\"ISO-8859-1\")\n",
    "train_features=  train_features.iloc[:, 2:]\n",
    "train_features.drop(['euclidean_distance','jaccard_distance'], axis=1,inplace=True)\n",
    "\n",
    "test_features = pd.read_csv('../test/test_features.csv', encoding=\"ISO-8859-1\")\n",
    "test_features=  test_features.iloc[:, 2:]\n",
    "test_features.drop(['euclidean_distance','jaccard_distance'], axis=1,inplace=True)\n",
    "\n",
    "print(train_features.shape)\n",
    "print(test_features.shape)"
   ]
  },
  {
   "cell_type": "code",
   "execution_count": 15,
   "metadata": {
    "collapsed": false
   },
   "outputs": [],
   "source": [
    "train_features.fillna(0,inplace=True)\n",
    "test_features.fillna(0,inplace=True)"
   ]
  },
  {
   "cell_type": "code",
   "execution_count": 16,
   "metadata": {
    "collapsed": false,
    "scrolled": true
   },
   "outputs": [],
   "source": [
    "train_features=train_features.replace('inf',0)\n",
    "test_features=test_features.replace('inf',0)"
   ]
  },
  {
   "cell_type": "code",
   "execution_count": 17,
   "metadata": {
    "collapsed": false
   },
   "outputs": [],
   "source": [
    "ss = StandardScaler()\n",
    "ss.fit(np.vstack((train_features, test_features)))\n",
    "train_features = ss.transform(train_features)\n",
    "test_features = ss.transform(test_features)"
   ]
  },
  {
   "cell_type": "markdown",
   "metadata": {},
   "source": [
    "# Feature part3:train5"
   ]
  },
  {
   "cell_type": "code",
   "execution_count": 18,
   "metadata": {
    "collapsed": false
   },
   "outputs": [
    {
     "name": "stdout",
     "output_type": "stream",
     "text": [
      "(404290, 21)\n",
      "(404290, 13)\n",
      "(2345796, 18)\n",
      "(2345796, 13)\n"
     ]
    }
   ],
   "source": [
    "train5=pd.read_csv('../train/train5.csv', encoding=\"ISO-8859-1\")#之前总结的特征：train5\n",
    "print(train5.shape)\n",
    "train5=train5.iloc[:,8:]\n",
    "print(train5.shape)\n",
    "\n",
    "test5=pd.read_csv('../test/test5.csv', encoding=\"ISO-8859-1\")#之前总结的特征：test5\n",
    "print(test5.shape)\n",
    "test5=test5.iloc[:,5:]\n",
    "print(test5.shape)"
   ]
  },
  {
   "cell_type": "code",
   "execution_count": 19,
   "metadata": {
    "collapsed": true
   },
   "outputs": [],
   "source": [
    "ss = StandardScaler()\n",
    "ss.fit(np.vstack((train5, test5)))\n",
    "train5 = ss.transform(train5)\n",
    "test5 = ss.transform(test5)"
   ]
  },
  {
   "cell_type": "markdown",
   "metadata": {},
   "source": [
    "# Feature part4:train6"
   ]
  },
  {
   "cell_type": "code",
   "execution_count": 20,
   "metadata": {
    "collapsed": false
   },
   "outputs": [
    {
     "name": "stdout",
     "output_type": "stream",
     "text": [
      "(404290, 16)\n",
      "(2345796, 16)\n"
     ]
    }
   ],
   "source": [
    "train6=pd.read_csv('../train/train6.csv')#\n",
    "print(train6.shape)\n",
    "\n",
    "test6=pd.read_csv('../test/test6.csv')#\n",
    "print(test6.shape)"
   ]
  },
  {
   "cell_type": "code",
   "execution_count": 21,
   "metadata": {
    "collapsed": false
   },
   "outputs": [],
   "source": [
    "train6.fillna(0,inplace=True)\n",
    "test6.fillna(0,inplace=True)"
   ]
  },
  {
   "cell_type": "code",
   "execution_count": 22,
   "metadata": {
    "collapsed": false
   },
   "outputs": [],
   "source": [
    "ss = StandardScaler()\n",
    "ss.fit(np.vstack((train6, test6)))\n",
    "train6 = ss.transform(train6)\n",
    "test6 = ss.transform(test6)"
   ]
  },
  {
   "cell_type": "code",
   "execution_count": 23,
   "metadata": {
    "collapsed": false
   },
   "outputs": [
    {
     "data": {
      "text/plain": [
       "51"
      ]
     },
     "execution_count": 23,
     "metadata": {},
     "output_type": "execute_result"
    }
   ],
   "source": [
    "import gc\n",
    "gc.collect()"
   ]
  },
  {
   "cell_type": "markdown",
   "metadata": {},
   "source": [
    "# Prepare embeddings..."
   ]
  },
  {
   "cell_type": "code",
   "execution_count": 24,
   "metadata": {
    "collapsed": false
   },
   "outputs": [
    {
     "name": "stdout",
     "output_type": "stream",
     "text": [
      "Preparing embedding matrix\n",
      "Null word embeddings: 43908\n"
     ]
    }
   ],
   "source": [
    "########################################\n",
    "## prepare embeddings\n",
    "########################################\n",
    "print('Preparing embedding matrix')\n",
    "\n",
    "nb_words = min(MAX_NB_WORDS, len(word_index))+1\n",
    "\n",
    "embedding_matrix = np.zeros((nb_words, EMBEDDING_DIM))\n",
    "for word, i in word_index.items():\n",
    "    embedding_vector = embeddings_index.get(word)\n",
    "    if embedding_vector is not None:\n",
    "        embedding_matrix[i] = embedding_vector\n",
    "print('Null word embeddings: %d' % np.sum(np.sum(embedding_matrix, axis=1) == 0))"
   ]
  },
  {
   "cell_type": "code",
   "execution_count": 25,
   "metadata": {
    "collapsed": false
   },
   "outputs": [
    {
     "name": "stdout",
     "output_type": "stream",
     "text": [
      "(120500, 300)\n"
     ]
    }
   ],
   "source": [
    "print(embedding_matrix.shape)"
   ]
  },
  {
   "cell_type": "markdown",
   "metadata": {},
   "source": [
    "# Prepare Training..."
   ]
  },
  {
   "cell_type": "code",
   "execution_count": 26,
   "metadata": {
    "collapsed": false
   },
   "outputs": [],
   "source": [
    "########################################\n",
    "## sample train/validation data\n",
    "########################################\n",
    "#np.random.seed(1234)\n",
    "perm = np.random.permutation(len(data_1))\n",
    "idx_train = perm[:int(len(data_1)*(1-VALIDATION_SPLIT))]\n",
    "idx_val = perm[int(len(data_1)*(1-VALIDATION_SPLIT)):]\n",
    "\n",
    "data_1_train = np.vstack((data_1[idx_train], data_2[idx_train]))\n",
    "data_2_train = np.vstack((data_2[idx_train], data_1[idx_train]))\n",
    "\n",
    "doc_1_train = np.vstack((doc_train1[idx_train], doc_train2[idx_train]))\n",
    "doc_2_train = np.vstack((doc_train2[idx_train], doc_train1[idx_train]))\n",
    "\n",
    "labels_train = np.concatenate((labels[idx_train], labels[idx_train]))\n",
    "\n",
    "train_all_train = np.vstack((train_all[idx_train], train_all[idx_train]))\n",
    "train_features_train = np.vstack((train_features[idx_train], train_features[idx_train]))\n",
    "train5_train = np.vstack((train5[idx_train], train5[idx_train]))\n",
    "train6_train = np.vstack((train6[idx_train], train6[idx_train]))\n",
    "\n",
    "\n",
    "data_1_val = np.vstack((data_1[idx_val], data_2[idx_val]))\n",
    "data_2_val = np.vstack((data_2[idx_val], data_1[idx_val]))\n",
    "\n",
    "doc_1_val = np.vstack((doc_train1[idx_val], doc_train2[idx_val]))\n",
    "doc_2_val = np.vstack((doc_train2[idx_val], doc_train1[idx_val]))\n",
    "\n",
    "labels_val = np.concatenate((labels[idx_val], labels[idx_val]))\n",
    "\n",
    "train_all_val = np.vstack((train_all[idx_val], train_all[idx_val]))\n",
    "train_features_val = np.vstack((train_features[idx_val], train_features[idx_val]))\n",
    "train5_val = np.vstack((train5[idx_val], train5[idx_val]))\n",
    "train6_val = np.vstack((train6[idx_val], train6[idx_val]))\n",
    "\n",
    "#leaks_val = np.vstack((leaks[idx_val], leaks[idx_val]))\n",
    "\n",
    "weight_val = np.ones(len(labels_val))\n",
    "\n",
    "#if re_weight:\n",
    "#    weight_val *= 0.472001959\n",
    "#    weight_val[labels_val==0] = 1.309028344\n",
    "    \n",
    "if re_weight:\n",
    "    weight_val *= 0.4459459459\n",
    "    weight_val[labels_val==0] = 1.3253968253"
   ]
  },
  {
   "cell_type": "markdown",
   "metadata": {},
   "source": [
    "# LSTM TRY TRY"
   ]
  },
  {
   "cell_type": "code",
   "execution_count": null,
   "metadata": {
    "collapsed": true
   },
   "outputs": [],
   "source": [
    "num_lstm = np.random.randint(175, 275)\n",
    "num_dense = np.random.randint(100, 150)\n",
    "rate_drop_lstm = 0.15 + np.random.rand() * 0.25\n",
    "rate_drop_dense = 0.15 + np.random.rand() * 0.25\n",
    "\n",
    "act = 'relu'\n",
    "re_weight = True # whether to re-weight classes to fit the 17.5% share in test set\n",
    "\n",
    "STAMP = 'lstm_%d_%d_%.2f_%.2f'%(num_lstm, num_dense, rate_drop_lstm, \\\n",
    "        rate_drop_dense)\n"
   ]
  },
  {
   "cell_type": "code",
   "execution_count": null,
   "metadata": {
    "collapsed": true
   },
   "outputs": [],
   "source": [
    "keras.layers.recurrent.LSTM(units, \n",
    "                            activation='tanh', \n",
    "                            recurrent_activation='hard_sigmoid',\n",
    "                            use_bias=True,\n",
    "                            kernel_initializer='glorot_uniform',\n",
    "                            recurrent_initializer='orthogonal', \n",
    "                            bias_initializer='zeros',\n",
    "                            unit_forget_bias=True,\n",
    "                            kernel_regularizer=None, \n",
    "                            recurrent_regularizer=None,\n",
    "                            bias_regularizer=None, \n",
    "                            activity_regularizer=None, \n",
    "                            kernel_constraint=None,\n",
    "                            recurrent_constraint=None,\n",
    "                            bias_constraint=None,\n",
    "                            dropout=0.0, \n",
    "                            recurrent_dropout=0.0)"
   ]
  },
  {
   "cell_type": "code",
   "execution_count": 22,
   "metadata": {
    "collapsed": false
   },
   "outputs": [
    {
     "data": {
      "text/plain": [
       "TensorShape([Dimension(None), Dimension(30), Dimension(300)])"
      ]
     },
     "execution_count": 22,
     "metadata": {},
     "output_type": "execute_result"
    }
   ],
   "source": [
    "embedded_sequences_2.shape"
   ]
  },
  {
   "cell_type": "code",
   "execution_count": 145,
   "metadata": {
    "collapsed": false
   },
   "outputs": [
    {
     "data": {
      "text/plain": [
       "<tf.Tensor 'embedding_8/Gather:0' shape=(?, 30, 300) dtype=float32>"
      ]
     },
     "execution_count": 145,
     "metadata": {},
     "output_type": "execute_result"
    }
   ],
   "source": [
    "embedded_sequences_1"
   ]
  },
  {
   "cell_type": "code",
   "execution_count": 143,
   "metadata": {
    "collapsed": false
   },
   "outputs": [
    {
     "data": {
      "text/plain": [
       "120500"
      ]
     },
     "execution_count": 143,
     "metadata": {},
     "output_type": "execute_result"
    }
   ],
   "source": [
    "embedding_layer_doc = Embedding(nb_words,\n",
    "        100,\n",
    "        input_length=100,\n",
    "        trainable=False)\n",
    "\n",
    "lstm_layer_doc=LSTM(num_lstm,dropout=rate_drop_lstm, recurrent_dropout=rate_drop_lstm,activation='sigmoid')\n",
    "doc_1_input = Input(shape=(100,), dtype='int32')\n",
    "embedded_doc_1 = embedding_layer_doc(doc_1_input)\n",
    "doc1=lstm_layer_doc(embedded_doc_1)\n",
    "\n",
    "doc_2_input = Input(shape=(100,), dtype='int32')\n",
    "embedded_doc_2 = embedding_layer_doc(doc_2_input)\n",
    "doc2=lstm_layer_doc(embedded_doc_2)"
   ]
  },
  {
   "cell_type": "code",
   "execution_count": 80,
   "metadata": {
    "collapsed": false
   },
   "outputs": [],
   "source": [
    "#doc2vec lstm layer\n",
    "lstm_layer_doc=LSTM(num_lstm,dropout=rate_drop_lstm, recurrent_dropout=rate_drop_lstm)\n",
    "\n",
    "# Input Block\n",
    "vocabulary_size=1000\n",
    "doc1_input = Input(shape=(100,))\n",
    "doc1_embedding = Embedding(vocabulary_size, 128, mask_zero=True)(doc1_input)\n",
    "doc1=lstm_layer_doc(doc1_embedding)\n",
    "\n",
    "doc2_input = Input(shape=(100,))\n",
    "doc2_embedding = Embedding(vocabulary_size, 128, mask_zero=True)(doc2_input)\n",
    "doc2=lstm_layer_doc(doc1_embedding)"
   ]
  },
  {
   "cell_type": "code",
   "execution_count": 77,
   "metadata": {
    "collapsed": false
   },
   "outputs": [
    {
     "data": {
      "text/plain": [
       "30"
      ]
     },
     "execution_count": 77,
     "metadata": {},
     "output_type": "execute_result"
    }
   ],
   "source": [
    "embedding_layer.input_length"
   ]
  },
  {
   "cell_type": "code",
   "execution_count": 25,
   "metadata": {
    "collapsed": false
   },
   "outputs": [
    {
     "name": "stdout",
     "output_type": "stream",
     "text": [
      "300\n",
      "30\n",
      "(120500, 300)\n"
     ]
    }
   ],
   "source": [
    "print(EMBEDDING_DIM)\n",
    "print(MAX_SEQUENCE_LENGTH)\n",
    "print(embedding_matrix.shape)"
   ]
  },
  {
   "cell_type": "code",
   "execution_count": 35,
   "metadata": {
    "collapsed": false
   },
   "outputs": [
    {
     "data": {
      "text/plain": [
       "220"
      ]
     },
     "execution_count": 35,
     "metadata": {},
     "output_type": "execute_result"
    }
   ],
   "source": [
    "num_lstm"
   ]
  },
  {
   "cell_type": "code",
   "execution_count": 39,
   "metadata": {
    "collapsed": false
   },
   "outputs": [
    {
     "data": {
      "text/plain": [
       "300"
      ]
     },
     "execution_count": 39,
     "metadata": {},
     "output_type": "execute_result"
    }
   ],
   "source": [
    "EMBEDDING_DIM"
   ]
  },
  {
   "cell_type": "code",
   "execution_count": 37,
   "metadata": {
    "collapsed": false
   },
   "outputs": [
    {
     "data": {
      "text/plain": [
       "<tf.Tensor 'embedding_3/Gather:0' shape=(?, 100, 128) dtype=float32>"
      ]
     },
     "execution_count": 37,
     "metadata": {},
     "output_type": "execute_result"
    }
   ],
   "source": [
    "doc2_embedding"
   ]
  },
  {
   "cell_type": "markdown",
   "metadata": {},
   "source": [
    "# LSTM GO DIE"
   ]
  },
  {
   "cell_type": "code",
   "execution_count": 27,
   "metadata": {
    "collapsed": true
   },
   "outputs": [],
   "source": [
    "########################################\n",
    "## define the model structure\n",
    "########################################\n",
    "embedding_layer = Embedding(nb_words,\n",
    "        EMBEDDING_DIM,\n",
    "        weights=[embedding_matrix],\n",
    "        input_length=MAX_SEQUENCE_LENGTH,\n",
    "        trainable=False)\n",
    "lstm_layer = LSTM(num_lstm, dropout=rate_drop_lstm, recurrent_dropout=rate_drop_lstm)\n",
    "\n",
    "sequence_1_input = Input(shape=(MAX_SEQUENCE_LENGTH,), dtype='int32')\n",
    "embedded_sequences_1 = embedding_layer(sequence_1_input)\n",
    "x1 = lstm_layer(embedded_sequences_1)\n",
    "\n",
    "sequence_2_input = Input(shape=(MAX_SEQUENCE_LENGTH,), dtype='int32')\n",
    "embedded_sequences_2 = embedding_layer(sequence_2_input)\n",
    "y1 = lstm_layer(embedded_sequences_2)\n",
    "\n",
    "#doc2vec lstm layer\n",
    "lstm_layer_doc=LSTM(100,dropout=rate_drop_lstm, recurrent_dropout=rate_drop_lstm)\n",
    "\n",
    "# Input Block\n",
    "doc1_input = Input(shape=(100,))\n",
    "doc1_embedding = Embedding(nb_words, 64, mask_zero=True)(doc1_input)\n",
    "doc1=lstm_layer_doc(doc1_embedding)\n",
    "\n",
    "doc2_input = Input(shape=(100,))\n",
    "doc2_embedding = Embedding(nb_words, 64, mask_zero=True)(doc2_input)\n",
    "doc2=lstm_layer_doc(doc1_embedding)\n",
    "\n",
    "\n",
    "merged = concatenate([x1, y1,doc1,doc2])\n",
    "merged = Dropout(rate_drop_dense)(merged)\n",
    "merged = BatchNormalization()(merged)\n",
    "\n",
    "merged = Dense(num_dense, activation=act)(merged)\n",
    "merged = Dropout(rate_drop_dense)(merged)\n",
    "merged = BatchNormalization()(merged)\n",
    "\n",
    "preds = Dense(1, activation='sigmoid')(merged)\n",
    "\n",
    "########################################\n",
    "## add class weight\n",
    "########################################\n",
    "#if re_weight:\n",
    "#    class_weight = {0: 1.309028344, 1: 0.472001959}\n",
    "#else:\n",
    "#    class_weight = None\n",
    "    \n",
    "if re_weight:\n",
    "    class_weight = {0: 1.3253968253, 1: 0.4459459459}\n",
    "else:\n",
    "    class_weight = None"
   ]
  },
  {
   "cell_type": "code",
   "execution_count": null,
   "metadata": {
    "collapsed": false
   },
   "outputs": [
    {
     "name": "stdout",
     "output_type": "stream",
     "text": [
      "lstm_220_141_0.29_0.40\n",
      "Train on 727722 samples, validate on 80858 samples\n",
      "Epoch 1/200\n"
     ]
    }
   ],
   "source": [
    "########################################\n",
    "## train the model\n",
    "########################################\n",
    "model = Model(inputs=[sequence_1_input, sequence_2_input,doc1_input,doc2_input], \\\n",
    "              outputs=preds)\n",
    "model.compile(loss='binary_crossentropy',\n",
    "              optimizer='nadam',\n",
    "              metrics=['acc'])\n",
    "#model.summary()\n",
    "print(STAMP)\n",
    "\n",
    "early_stopping =EarlyStopping(monitor='val_loss', patience=3)\n",
    "bst_model_path = STAMP + '.h5'\n",
    "model_checkpoint = ModelCheckpoint(bst_model_path, save_best_only=True, save_weights_only=True)\n",
    "\n",
    "hist = model.fit([data_1_train, data_2_train,doc_1_train,doc_2_train], labels_train, \\\n",
    "        validation_data=([data_1_val, data_2_val,doc_1_val,doc_2_val], labels_val, weight_val), \\\n",
    "        epochs=200, batch_size=512, shuffle=True, \\\n",
    "        class_weight=class_weight, callbacks=[early_stopping, model_checkpoint])\n",
    "\n",
    "model.load_weights(bst_model_path)\n",
    "bst_val_score = min(hist.history['val_loss'])\n",
    "print(bst_val_score)"
   ]
  },
  {
   "cell_type": "markdown",
   "metadata": {},
   "source": [
    "# LSTM GO OK"
   ]
  },
  {
   "cell_type": "code",
   "execution_count": null,
   "metadata": {
    "collapsed": true
   },
   "outputs": [],
   "source": [
    "########################################\n",
    "## define the model structure\n",
    "########################################\n",
    "embedding_layer = Embedding(nb_words,\n",
    "        EMBEDDING_DIM,\n",
    "        weights=[embedding_matrix],\n",
    "        input_length=MAX_SEQUENCE_LENGTH,\n",
    "        trainable=False)\n",
    "lstm_layer = LSTM(num_lstm, dropout=rate_drop_lstm, recurrent_dropout=rate_drop_lstm)\n",
    "\n",
    "sequence_1_input = Input(shape=(MAX_SEQUENCE_LENGTH,), dtype='int32')\n",
    "embedded_sequences_1 = embedding_layer(sequence_1_input)\n",
    "x1 = lstm_layer(embedded_sequences_1)\n",
    "\n",
    "sequence_2_input = Input(shape=(MAX_SEQUENCE_LENGTH,), dtype='int32')\n",
    "embedded_sequences_2 = embedding_layer(sequence_2_input)\n",
    "y1 = lstm_layer(embedded_sequences_2)\n",
    "\n",
    "#doc2vec lstm layer\n",
    "lstm_layer_doc=LSTM(100,dropout=rate_drop_lstm, recurrent_dropout=rate_drop_lstm)\n",
    "\n",
    "# Input Block\n",
    "doc1_input = Input(shape=(100,))\n",
    "doc1_embedding = Embedding(nb_words, 64, mask_zero=True)(doc1_input)\n",
    "doc1=lstm_layer_doc(doc1_embedding)\n",
    "\n",
    "doc2_input = Input(shape=(100,))\n",
    "doc2_embedding = Embedding(nb_words, 64, mask_zero=True)(doc2_input)\n",
    "doc2=lstm_layer_doc(doc1_embedding)\n",
    "\n",
    "\n",
    "#other features for merge\n",
    "train_all_input = Input(shape=(train_all.shape[1],),)\n",
    "train_all_dense = Dense(int(num_dense/2), activation=act)(train_all_input)\n",
    "\n",
    "train_features_input = Input(shape=(train_features.shape[1],),)\n",
    "train_features_dense = Dense(int(num_dense/2), activation=act)(train_features_input)\n",
    "\n",
    "train5_input = Input(shape=(train5.shape[1],),)\n",
    "train5_dense = Dense(int(num_dense/2), activation=act)(train5_input)\n",
    "\n",
    "train6_input = Input(shape=(train6.shape[1],),)\n",
    "train6_dense = Dense(int(num_dense/2), activation=act)(train6_input)\n",
    "\n",
    "\n",
    "merged = concatenate([x1, y1,doc1,doc2, train_all_dense,train_features_dense,train5_dense,train6_dense])\n",
    "merged = Dropout(rate_drop_dense)(merged)\n",
    "merged = BatchNormalization()(merged)\n",
    "\n",
    "merged = Dense(num_dense, activation=act)(merged)\n",
    "merged = Dropout(rate_drop_dense)(merged)\n",
    "merged = BatchNormalization()(merged)\n",
    "\n",
    "preds = Dense(1, activation='sigmoid')(merged)\n",
    "\n",
    "########################################\n",
    "## add class weight\n",
    "########################################\n",
    "#if re_weight:\n",
    "#    class_weight = {0: 1.309028344, 1: 0.472001959}\n",
    "#else:\n",
    "#    class_weight = None\n",
    "    \n",
    "if re_weight:\n",
    "    class_weight = {0: 1.3253968253, 1: 0.4459459459}\n",
    "else:\n",
    "    class_weight = None"
   ]
  },
  {
   "cell_type": "markdown",
   "metadata": {},
   "source": [
    "# Train1"
   ]
  },
  {
   "cell_type": "code",
   "execution_count": 77,
   "metadata": {
    "collapsed": false,
    "scrolled": true
   },
   "outputs": [
    {
     "name": "stdout",
     "output_type": "stream",
     "text": [
      "lstm_204_128_0.39_0.34\n",
      "Train on 727722 samples, validate on 80858 samples\n",
      "Epoch 1/200\n",
      "727722/727722 [==============================] - 352s - loss: 0.2069 - acc: 0.8412 - val_loss: 0.1735 - val_acc: 0.8575\n",
      "Epoch 2/200\n",
      "727722/727722 [==============================] - 349s - loss: 0.1779 - acc: 0.8610 - val_loss: 0.1682 - val_acc: 0.8779\n",
      "Epoch 3/200\n",
      "727722/727722 [==============================] - 347s - loss: 0.1691 - acc: 0.8683 - val_loss: 0.1610 - val_acc: 0.8754\n",
      "Epoch 4/200\n",
      "727722/727722 [==============================] - 346s - loss: 0.1623 - acc: 0.8740 - val_loss: 0.1594 - val_acc: 0.8721\n",
      "Epoch 5/200\n",
      "727722/727722 [==============================] - 347s - loss: 0.1581 - acc: 0.8770 - val_loss: 0.1567 - val_acc: 0.8746\n",
      "Epoch 6/200\n",
      "727722/727722 [==============================] - 345s - loss: 0.1544 - acc: 0.8800 - val_loss: 0.1571 - val_acc: 0.8823\n",
      "Epoch 7/200\n",
      "727722/727722 [==============================] - 347s - loss: 0.1516 - acc: 0.8828 - val_loss: 0.1553 - val_acc: 0.8837\n",
      "Epoch 8/200\n",
      "727722/727722 [==============================] - 346s - loss: 0.1491 - acc: 0.8849 - val_loss: 0.1579 - val_acc: 0.8695\n",
      "Epoch 9/200\n",
      "727722/727722 [==============================] - 348s - loss: 0.1473 - acc: 0.8865 - val_loss: 0.1547 - val_acc: 0.8838\n",
      "Epoch 10/200\n",
      "727722/727722 [==============================] - 345s - loss: 0.1460 - acc: 0.8876 - val_loss: 0.1556 - val_acc: 0.8837\n",
      "Epoch 11/200\n",
      "727722/727722 [==============================] - 347s - loss: 0.1444 - acc: 0.8889 - val_loss: 0.1539 - val_acc: 0.8805\n",
      "Epoch 12/200\n",
      "727722/727722 [==============================] - 346s - loss: 0.1434 - acc: 0.8899 - val_loss: 0.1545 - val_acc: 0.8825\n",
      "Epoch 13/200\n",
      "727722/727722 [==============================] - 345s - loss: 0.1427 - acc: 0.8907 - val_loss: 0.1552 - val_acc: 0.8781\n",
      "Epoch 14/200\n",
      "727722/727722 [==============================] - 346s - loss: 0.1419 - acc: 0.8911 - val_loss: 0.1546 - val_acc: 0.8839\n",
      "Epoch 15/200\n",
      "727722/727722 [==============================] - 346s - loss: 0.1410 - acc: 0.8922 - val_loss: 0.1563 - val_acc: 0.8808\n"
     ]
    }
   ],
   "source": [
    "########################################\n",
    "## train the model\n",
    "########################################\n",
    "model = Model(inputs=[sequence_1_input, sequence_2_input, train_all_input,train_features_input,train5_input,train6_input], \\\n",
    "              outputs=preds)\n",
    "model.compile(loss='binary_crossentropy',\n",
    "              optimizer='nadam',\n",
    "              metrics=['acc'])\n",
    "#model.summary()\n",
    "print(STAMP)\n",
    "\n",
    "early_stopping =EarlyStopping(monitor='val_loss', patience=3)\n",
    "bst_model_path = STAMP + '.h5'\n",
    "model_checkpoint = ModelCheckpoint(bst_model_path, save_best_only=True, save_weights_only=True)\n",
    "\n",
    "hist = model.fit([data_1_train, data_2_train, train_all_train,train_features_train,train5_train,train6_train], labels_train, \\\n",
    "        validation_data=([data_1_val, data_2_val, train_all_val,train_features_val,train5_val,train6_val], labels_val, weight_val), \\\n",
    "        epochs=200, batch_size=512, shuffle=True, \\\n",
    "        class_weight=class_weight, callbacks=[early_stopping, model_checkpoint])\n",
    "\n",
    "model.load_weights(bst_model_path)\n",
    "bst_val_score = min(hist.history['val_loss'])\n",
    "print(bst_val_score)"
   ]
  },
  {
   "cell_type": "code",
   "execution_count": 78,
   "metadata": {
    "collapsed": false
   },
   "outputs": [
    {
     "name": "stdout",
     "output_type": "stream",
     "text": [
      "Start making the submission before fine-tuning\n",
      "2345796/2345796 [==============================] - 376s   \n",
      "2345796/2345796 [==============================] - 372s   \n"
     ]
    }
   ],
   "source": [
    "########################################\n",
    "## make the submission\n",
    "########################################\n",
    "print('Start making the submission before fine-tuning')\n",
    "\n",
    "preds = model.predict([test_data_1, test_data_2,test_all,test_features,test5,test6], batch_size=1024, verbose=1)\n",
    "preds += model.predict([test_data_2, test_data_1,test_all,test_features,test5,test6], batch_size=1024, verbose=1)\n",
    "preds /= 2\n",
    "\n",
    "submission = pd.DataFrame({'test_id':test_ids, 'is_duplicate':preds.ravel()})\n",
    "submission.to_csv('../output/LSTM20170528_%.4f_'%(bst_val_score)+STAMP+'.csv', index=False)"
   ]
  },
  {
   "cell_type": "code",
   "execution_count": 79,
   "metadata": {
    "collapsed": false
   },
   "outputs": [
    {
     "name": "stdout",
     "output_type": "stream",
     "text": [
      "(80496, 2)\n"
     ]
    }
   ],
   "source": [
    "print(submission[(submission.is_duplicate>0.5)].shape)"
   ]
  },
  {
   "cell_type": "markdown",
   "metadata": {},
   "source": [
    "# Train2"
   ]
  },
  {
   "cell_type": "code",
   "execution_count": 81,
   "metadata": {
    "collapsed": true
   },
   "outputs": [],
   "source": [
    "num_lstm = np.random.randint(175, 275)\n",
    "num_dense = np.random.randint(100, 150)\n",
    "rate_drop_lstm = 0.15 + np.random.rand() * 0.25\n",
    "rate_drop_dense = 0.15 + np.random.rand() * 0.25\n",
    "\n",
    "act = 'relu'\n",
    "re_weight = True # whether to re-weight classes to fit the 17.5% share in test set\n",
    "\n",
    "STAMP = 'lstm_%d_%d_%.2f_%.2f'%(num_lstm, num_dense, rate_drop_lstm, \\\n",
    "        rate_drop_dense)"
   ]
  },
  {
   "cell_type": "code",
   "execution_count": 85,
   "metadata": {
    "collapsed": false,
    "scrolled": true
   },
   "outputs": [
    {
     "name": "stdout",
     "output_type": "stream",
     "text": [
      "lstm_208_136_0.21_0.21\n",
      "Train on 727722 samples, validate on 80858 samples\n",
      "Epoch 1/200\n",
      "727722/727722 [==============================] - 402s - loss: 0.1961 - acc: 0.8504 - val_loss: 0.1685 - val_acc: 0.8585\n",
      "Epoch 2/200\n",
      "727722/727722 [==============================] - 391s - loss: 0.1678 - acc: 0.8696 - val_loss: 0.1637 - val_acc: 0.8621\n",
      "Epoch 3/200\n",
      "727722/727722 [==============================] - 403s - loss: 0.1551 - acc: 0.8799 - val_loss: 0.1577 - val_acc: 0.8796\n",
      "Epoch 4/200\n",
      "727722/727722 [==============================] - 403s - loss: 0.1441 - acc: 0.8892 - val_loss: 0.1567 - val_acc: 0.8823\n",
      "Epoch 5/200\n",
      "727722/727722 [==============================] - 401s - loss: 0.1360 - acc: 0.8963 - val_loss: 0.1637 - val_acc: 0.8899\n",
      "Epoch 6/200\n",
      "727722/727722 [==============================] - 400s - loss: 0.1281 - acc: 0.9027 - val_loss: 0.1620 - val_acc: 0.8886\n",
      "Epoch 7/200\n",
      "727722/727722 [==============================] - 401s - loss: 0.1224 - acc: 0.9083 - val_loss: 0.1632 - val_acc: 0.8874\n",
      "Epoch 8/200\n",
      "727722/727722 [==============================] - 401s - loss: 0.1182 - acc: 0.9118 - val_loss: 0.1707 - val_acc: 0.8915\n"
     ]
    }
   ],
   "source": [
    "########################################\n",
    "## train the model\n",
    "########################################\n",
    "model = Model(inputs=[sequence_1_input, sequence_2_input, train_all_input,train_features_input,train5_input,train6_input], \\\n",
    "              outputs=preds)\n",
    "model.compile(loss='binary_crossentropy',\n",
    "              optimizer='nadam',\n",
    "              metrics=['acc'])\n",
    "#model.summary()\n",
    "print(STAMP)\n",
    "\n",
    "early_stopping =EarlyStopping(monitor='val_loss', patience=3)\n",
    "bst_model_path = STAMP + '.h5'\n",
    "model_checkpoint = ModelCheckpoint(bst_model_path, save_best_only=True, save_weights_only=True)\n",
    "\n",
    "hist = model.fit([data_1_train, data_2_train, train_all_train,train_features_train,train5_train,train6_train], labels_train, \\\n",
    "        validation_data=([data_1_val, data_2_val, train_all_val,train_features_val,train5_val,train6_val], labels_val, weight_val), \\\n",
    "        epochs=200, batch_size=512, shuffle=True, \\\n",
    "        class_weight=class_weight, callbacks=[early_stopping, model_checkpoint])\n",
    "\n",
    "model.load_weights(bst_model_path)\n",
    "bst_val_score = min(hist.history['val_loss'])\n",
    "print(bst_val_score)"
   ]
  },
  {
   "cell_type": "code",
   "execution_count": 86,
   "metadata": {
    "collapsed": false
   },
   "outputs": [
    {
     "name": "stdout",
     "output_type": "stream",
     "text": [
      "Start making the submission before fine-tuning\n",
      "0.156718803446\n",
      "2345796/2345796 [==============================] - 375s   \n",
      "2345796/2345796 [==============================] - 371s   \n"
     ]
    }
   ],
   "source": [
    "########################################\n",
    "## make the submission\n",
    "########################################\n",
    "print('Start making the submission before fine-tuning')\n",
    "print(bst_val_score)\n",
    "\n",
    "preds = model.predict([test_data_1, test_data_2,test_all,test_features,test5,test6], batch_size=1024, verbose=1)\n",
    "preds += model.predict([test_data_2, test_data_1,test_all,test_features,test5,test6], batch_size=1024, verbose=1)\n",
    "preds /= 2\n",
    "\n",
    "submission = pd.DataFrame({'test_id':test_ids, 'is_duplicate':preds.ravel()})\n",
    "submission.to_csv('../output/LSTM20170529_%.4f_'%(bst_val_score)+STAMP+'.csv', index=False)"
   ]
  },
  {
   "cell_type": "markdown",
   "metadata": {},
   "source": [
    "# Train3"
   ]
  },
  {
   "cell_type": "code",
   "execution_count": 89,
   "metadata": {
    "collapsed": false
   },
   "outputs": [
    {
     "name": "stdout",
     "output_type": "stream",
     "text": [
      "lstm_245_117_0.18_0.40\n"
     ]
    }
   ],
   "source": [
    "########################################\n",
    "## train the model\n",
    "########################################\n",
    "model = Model(inputs=[sequence_1_input, sequence_2_input, train_all_input,train_features_input,train5_input,train6_input], \\\n",
    "              outputs=preds)\n",
    "model.compile(loss='binary_crossentropy',\n",
    "              optimizer='nadam',\n",
    "              metrics=['acc'])\n",
    "#model.summary()\n",
    "print(STAMP)\n",
    "\n",
    "early_stopping =EarlyStopping(monitor='val_loss', patience=3)\n",
    "bst_model_path = STAMP + '.h5'\n",
    "model_checkpoint = ModelCheckpoint(bst_model_path, save_best_only=True, save_weights_only=True)\n",
    "\n",
    "hist = model.fit([data_1_train, data_2_train, train_all_train,train_features_train,train5_train,train6_train], labels_train, \\\n",
    "        validation_data=([data_1_val, data_2_val, train_all_val,train_features_val,train5_val,train6_val], labels_val, weight_val), \\\n",
    "        epochs=200, batch_size=512, shuffle=True, \\\n",
    "        class_weight=class_weight, callbacks=[early_stopping, model_checkpoint])\n",
    "\n",
    "model.load_weights(bst_model_path)\n",
    "bst_val_score = min(hist.history['val_loss'])\n",
    "print(bst_val_score)"
   ]
  },
  {
   "cell_type": "code",
   "execution_count": 31,
   "metadata": {
    "collapsed": false,
    "scrolled": true
   },
   "outputs": [
    {
     "name": "stdout",
     "output_type": "stream",
     "text": [
      "lstm_238_144_0.29_0.35\n",
      "Train on 727722 samples, validate on 80858 samples\n",
      "Epoch 1/200\n",
      "727722/727722 [==============================] - 368s - loss: 0.2249 - acc: 0.8336 - val_loss: 0.1968 - val_acc: 0.8371\n",
      "Epoch 2/200\n",
      "727722/727722 [==============================] - 364s - loss: 0.1970 - acc: 0.8515 - val_loss: 0.1861 - val_acc: 0.8539\n",
      "Epoch 3/200\n",
      "727722/727722 [==============================] - 364s - loss: 0.1865 - acc: 0.8592 - val_loss: 0.1880 - val_acc: 0.8716\n",
      "Epoch 4/200\n",
      "727722/727722 [==============================] - 366s - loss: 0.1787 - acc: 0.8651 - val_loss: 0.1785 - val_acc: 0.8733\n",
      "Epoch 5/200\n",
      "727722/727722 [==============================] - 365s - loss: 0.1723 - acc: 0.8695 - val_loss: 0.1757 - val_acc: 0.8668\n",
      "Epoch 6/200\n",
      "727722/727722 [==============================] - 365s - loss: 0.1671 - acc: 0.8741 - val_loss: 0.1757 - val_acc: 0.8680\n",
      "Epoch 7/200\n",
      "727722/727722 [==============================] - 364s - loss: 0.1632 - acc: 0.8771 - val_loss: 0.1754 - val_acc: 0.8636\n",
      "Epoch 8/200\n",
      "727722/727722 [==============================] - 363s - loss: 0.1594 - acc: 0.8805 - val_loss: 0.1781 - val_acc: 0.8757\n",
      "Epoch 9/200\n",
      "727722/727722 [==============================] - 367s - loss: 0.1566 - acc: 0.8829 - val_loss: 0.1752 - val_acc: 0.8726\n",
      "Epoch 10/200\n",
      "727722/727722 [==============================] - 365s - loss: 0.1542 - acc: 0.8855 - val_loss: 0.1754 - val_acc: 0.8724\n",
      "Epoch 11/200\n",
      "727722/727722 [==============================] - 364s - loss: 0.1523 - acc: 0.8871 - val_loss: 0.1803 - val_acc: 0.8792\n",
      "Epoch 12/200\n",
      "727722/727722 [==============================] - 363s - loss: 0.1513 - acc: 0.8880 - val_loss: 0.1841 - val_acc: 0.8828\n",
      "Epoch 13/200\n",
      "727722/727722 [==============================] - 364s - loss: 0.1498 - acc: 0.8899 - val_loss: 0.1810 - val_acc: 0.8788\n"
     ]
    }
   ],
   "source": [
    "########################################\n",
    "## train the model\n",
    "########################################\n",
    "model = Model(inputs=[sequence_1_input, sequence_2_input, leaks_input], \\\n",
    "        outputs=preds)\n",
    "model.compile(loss='binary_crossentropy',\n",
    "        optimizer='nadam',\n",
    "        metrics=['acc'])\n",
    "#model.summary()\n",
    "print(STAMP)\n",
    "\n",
    "early_stopping =EarlyStopping(monitor='val_loss', patience=3)\n",
    "bst_model_path = STAMP + '.h5'\n",
    "model_checkpoint = ModelCheckpoint(bst_model_path, save_best_only=True, save_weights_only=True)\n",
    "\n",
    "hist = model.fit([data_1_train, data_2_train, leaks_train], labels_train, \\\n",
    "        validation_data=([data_1_val, data_2_val, leaks_val], labels_val, weight_val), \\\n",
    "        epochs=200, batch_size=512, shuffle=True, \\\n",
    "        class_weight=class_weight, callbacks=[early_stopping, model_checkpoint])\n",
    "\n",
    "model.load_weights(bst_model_path)\n",
    "bst_val_score = min(hist.history['val_loss'])\n",
    "print(bst_val_score)"
   ]
  },
  {
   "cell_type": "code",
   "execution_count": 32,
   "metadata": {
    "collapsed": false
   },
   "outputs": [
    {
     "name": "stdout",
     "output_type": "stream",
     "text": [
      "Start making the submission before fine-tuning\n",
      "2345796/2345796 [==============================] - 402s   \n",
      "2345796/2345796 [==============================] - 396s   \n"
     ]
    }
   ],
   "source": [
    "########################################\n",
    "## make the submission\n",
    "########################################\n",
    "print('Start making the submission before fine-tuning')\n",
    "print(bst_val_score)\n",
    "\n",
    "preds = model.predict([test_data_1, test_data_2,test_all,test_features,test5,test6], batch_size=1024, verbose=1)\n",
    "preds += model.predict([test_data_2, test_data_1,test_all,test_features,test5,test6], batch_size=1024, verbose=1)\n",
    "preds /= 2\n",
    "\n",
    "submission = pd.DataFrame({'test_id':test_ids, 'is_duplicate':preds.ravel()})\n",
    "submission.to_csv('../output/LSTM20170529_%.4f_'%(bst_val_score)+STAMP+'.csv', index=False)"
   ]
  },
  {
   "cell_type": "code",
   "execution_count": 33,
   "metadata": {
    "collapsed": false
   },
   "outputs": [
    {
     "name": "stdout",
     "output_type": "stream",
     "text": [
      "../output/0.1752_lstm_238_144_0.29_0.35.csv\n"
     ]
    }
   ],
   "source": [
    "print('../output/%.4f_'%(bst_val_score)+STAMP+'.csv')"
   ]
  }
 ],
 "metadata": {
  "anaconda-cloud": {},
  "kernelspec": {
   "display_name": "Python [conda root]",
   "language": "python",
   "name": "conda-root-py"
  },
  "language_info": {
   "codemirror_mode": {
    "name": "ipython",
    "version": 3
   },
   "file_extension": ".py",
   "mimetype": "text/x-python",
   "name": "python",
   "nbconvert_exporter": "python",
   "pygments_lexer": "ipython3",
   "version": "3.5.2"
  }
 },
 "nbformat": 4,
 "nbformat_minor": 1
}
